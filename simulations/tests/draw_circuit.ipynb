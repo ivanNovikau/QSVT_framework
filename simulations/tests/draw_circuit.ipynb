{
 "cells": [
  {
   "cell_type": "code",
   "execution_count": 2,
   "metadata": {},
   "outputs": [
    {
     "name": "stdout",
     "output_type": "stream",
     "text": [
      "599\n",
      "/media/work/docs/codes/c++/QSVT_framework/simulations\n"
     ]
    }
   ],
   "source": [
    "# from plotly.offline import init_notebook_mode\n",
    "# init_notebook_mode(connected=True)\n",
    "# from IPython.core.display import display, HTML\n",
    "# import scipy.constants as sc\n",
    "# from scipy.optimize import fsolve\n",
    "# from ipywidgets import interact, widgets\n",
    "# %matplotlib notebook\n",
    "\n",
    "import numpy as np\n",
    "# %matplotlib ipympl\n",
    "# import mpl_interactions.ipyplot as iplt\n",
    "import matplotlib.pyplot as plt\n",
    "import scipy.constants as sc\n",
    "plt.rcParams.update({\n",
    "    \"text.usetex\": True,\n",
    "    'text.latex.preamble': r\"\\usepackage{amsmath} \\boldmath\"\n",
    "})\n",
    "import os\n",
    "\n",
    "print(os.getpid())\n",
    "%cd ../"
   ]
  },
  {
   "cell_type": "code",
   "execution_count": 3,
   "metadata": {},
   "outputs": [],
   "source": [
    "import pylib.mix as mix\n",
    "import pylib.draw_circuit as dci"
   ]
  },
  {
   "cell_type": "code",
   "execution_count": null,
   "metadata": {},
   "outputs": [],
   "source": []
  },
  {
   "cell_type": "code",
   "execution_count": 6,
   "metadata": {
    "scrolled": false
   },
   "outputs": [
    {
     "name": "stdout",
     "output_type": "stream",
     "text": [
      "Reading the file ./tests/test_drawing//u.circuit...\n",
      "\n",
      "Name of the circuit:  u\n",
      "Number of qubits:  8\n",
      "                                                                                    »\n",
      "a_3: ───────────────────────────────────────────────────────────────────────────────»\n",
      "                                                                                    »\n",
      "a_2: ───────────────────────────────────────────────────────────────────────────────»\n",
      "                                                                                    »\n",
      "a_1: ───────────────────────────────────────────────────────────────────────────────»\n",
      "                           ┌────────────┐     ┌────────────┐     ┌────────────┐     »\n",
      "a_0: ──────────────────────┤ Ry(2.7954) ├─────┤ Ry(2.7961) ├─────┤ Ry(2.6105) ├─────»\n",
      "                           └─────┬──────┘     └─────┬──────┘     └─────┬──────┘     »\n",
      "r_3: ────────────────────────────┼──────────────────┼──────────────────┼────────────»\n",
      "     ┌───┐                       │                  │                  │            »\n",
      "r_2: ┤ X ├───────────────────────■──────────────────■──────────────────■────────────»\n",
      "     ├───┤┌──────────┐┌───┐      │                  │       ┌───┐      │            »\n",
      "r_1: ┤ H ├┤ Ry(3.14) ├┤ X ├──────■──────────────────■───────┤ X ├──────■────────────»\n",
      "     ├───┤└────┬─────┘├───┤      │       ┌───┐      │       ├───┤      │       ┌───┐»\n",
      "r_0: ┤ H ├─────■──────┤ X ├──────■───────┤ X ├──────■───────┤ X ├──────■───────┤ X ├»\n",
      "     └───┘            └───┘              └───┘              └───┘              └───┘»\n",
      "«                                                                                 »\n",
      "«a_3: ────────────────────────────────────────────────────────────────────────────»\n",
      "«                                                                                 »\n",
      "«a_2: ────────────────────────────────────────────────────────────────────────────»\n",
      "«                                                                                 »\n",
      "«a_1: ────────────────────────────────────────────────────────────────────────────»\n",
      "«     ┌────────────┐     ┌────────────┐     ┌────────────┐     ┌────────────┐     »\n",
      "«a_0: ┤ Ry(2.4165) ├─────┤ Ry(2.2694) ├─────┤ Ry(2.2019) ├─────┤ Ry(2.2259) ├─────»\n",
      "«     └─────┬──────┘     └─────┬──────┘     └─────┬──────┘     └─────┬──────┘     »\n",
      "«r_3: ──────┼──────────────────┼──────────────────┼──────────────────┼────────────»\n",
      "«           │       ┌───┐      │                  │                  │            »\n",
      "«r_2: ──────■───────┤ X ├──────■──────────────────■──────────────────■────────────»\n",
      "«           │       ├───┤      │                  │       ┌───┐      │            »\n",
      "«r_1: ──────■───────┤ X ├──────■──────────────────■───────┤ X ├──────■────────────»\n",
      "«           │       ├───┤      │       ┌───┐      │       ├───┤      │       ┌───┐»\n",
      "«r_0: ──────■───────┤ X ├──────■───────┤ X ├──────■───────┤ X ├──────■───────┤ X ├»\n",
      "«                   └───┘              └───┘              └───┘              └───┘»\n",
      "«                   \n",
      "«a_3: ──────────────\n",
      "«                   \n",
      "«a_2: ──────────────\n",
      "«                   \n",
      "«a_1: ──────────────\n",
      "«     ┌────────────┐\n",
      "«a_0: ┤ Ry(2.2479) ├\n",
      "«     └─────┬──────┘\n",
      "«r_3: ──────┼───────\n",
      "«           │       \n",
      "«r_2: ──────■───────\n",
      "«           │       \n",
      "«r_1: ──────■───────\n",
      "«           │       \n",
      "«r_0: ──────■───────\n",
      "«                   \n",
      "the circuit depth: 18\n"
     ]
    }
   ],
   "source": [
    "# --- draw Test-drawing oracles ---\n",
    "# %matplotlib inline \n",
    "mix.reload_module(dci)\n",
    "\n",
    "path_circ = \"./tests/test_drawing/\"\n",
    "\n",
    "# name_circ = \"a\"\n",
    "name_circ = \"u\"\n",
    "\n",
    "oc = dci.DC(path_circ, name_circ)\n",
    "oc.circuit_fold = 90\n",
    "oc.draw()"
   ]
  },
  {
   "cell_type": "code",
   "execution_count": null,
   "metadata": {
    "collapsed": true
   },
   "outputs": [],
   "source": []
  },
  {
   "cell_type": "code",
   "execution_count": 10,
   "metadata": {},
   "outputs": [
    {
     "data": {
      "text/plain": [
       "array([7.923e-04-0.995j, 7.950e-05-0.1j  ])"
      ]
     },
     "execution_count": 10,
     "metadata": {},
     "output_type": "execute_result"
    }
   ],
   "source": [
    "az = 3.14\n",
    "ay = 0.2\n",
    "\n",
    "az2 = az / 2.\n",
    "ay2 = ay / 2.\n",
    "\n",
    "Rc = np.array([\n",
    "    [np.exp(-1j*az2)*np.cos(ay2), -np.exp(1j*az2)*np.sin(ay2)],\n",
    "    [np.exp(-1j*az2)*np.sin(ay2),  np.exp(1j*az2)*np.cos(ay2)]\n",
    "])\n",
    "\n",
    "# Rc = np.conjugate(np.transpose(Rc))\n",
    "\n",
    "xx = np.array([1, 0])\n",
    "yy = Rc @ xx\n",
    "yy"
   ]
  },
  {
   "cell_type": "code",
   "execution_count": null,
   "metadata": {},
   "outputs": [],
   "source": []
  }
 ],
 "metadata": {
  "kernelspec": {
   "display_name": "Python 3",
   "language": "python",
   "name": "python3"
  },
  "language_info": {
   "codemirror_mode": {
    "name": "ipython",
    "version": 3
   },
   "file_extension": ".py",
   "mimetype": "text/x-python",
   "name": "python",
   "nbconvert_exporter": "python",
   "pygments_lexer": "ipython3",
   "version": "3.6.9"
  }
 },
 "nbformat": 4,
 "nbformat_minor": 5
}
