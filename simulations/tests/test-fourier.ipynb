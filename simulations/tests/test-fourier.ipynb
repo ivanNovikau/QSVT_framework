{
 "cells": [
  {
   "cell_type": "code",
   "execution_count": 1,
   "metadata": {},
   "outputs": [
    {
     "data": {
      "text/html": [
       "        <script type=\"text/javascript\">\n",
       "        window.PlotlyConfig = {MathJaxConfig: 'local'};\n",
       "        if (window.MathJax) {MathJax.Hub.Config({SVG: {font: \"STIX-Web\"}});}\n",
       "        if (typeof require !== 'undefined') {\n",
       "        require.undef(\"plotly\");\n",
       "        requirejs.config({\n",
       "            paths: {\n",
       "                'plotly': ['https://cdn.plot.ly/plotly-2.9.0.min']\n",
       "            }\n",
       "        });\n",
       "        require(['plotly'], function(Plotly) {\n",
       "            window._Plotly = Plotly;\n",
       "        });\n",
       "        }\n",
       "        </script>\n",
       "        "
      ]
     },
     "metadata": {},
     "output_type": "display_data"
    },
    {
     "name": "stdout",
     "output_type": "stream",
     "text": [
      "/media/work/docs/codes/c++/QSVT_framework/simulations\n"
     ]
    }
   ],
   "source": [
    "%matplotlib notebook\n",
    "from plotly.offline import init_notebook_mode\n",
    "init_notebook_mode(connected=True)\n",
    "from IPython.core.display import display, HTML\n",
    "import numpy as np\n",
    "import matplotlib.pyplot as plt\n",
    "\n",
    "import importlib as imp\n",
    "%cd ../"
   ]
  },
  {
   "cell_type": "code",
   "execution_count": null,
   "metadata": {},
   "outputs": [],
   "source": []
  },
  {
   "cell_type": "code",
   "execution_count": 2,
   "metadata": {},
   "outputs": [
    {
     "data": {
      "text/plain": [
       "2676"
      ]
     },
     "execution_count": 2,
     "metadata": {},
     "output_type": "execute_result"
    }
   ],
   "source": [
    "import os\n",
    "import qiskit\n",
    "from qiskit.tools.visualization import circuit_drawer\n",
    "import XW_waves.xw_1d as xw\n",
    "mix = xw.mix\n",
    "mse = xw.mse\n",
    "reload = mix.reload_module\n",
    "import pylib.circuit_lib as lib\n",
    "\n",
    "os.getpid()"
   ]
  },
  {
   "cell_type": "code",
   "execution_count": null,
   "metadata": {},
   "outputs": [],
   "source": []
  },
  {
   "cell_type": "code",
   "execution_count": 9,
   "metadata": {},
   "outputs": [
    {
     "name": "stdout",
     "output_type": "stream",
     "text": [
      "a2 \t1.570796327e+00\n",
      "a4 \t7.853981634e-01\n"
     ]
    }
   ],
   "source": [
    "print(\"a2 \\t{:0.9e}\".format(np.pi/2.))\n",
    "print(\"a4 \\t{:0.9e}\".format(np.pi/4.))"
   ]
  },
  {
   "cell_type": "code",
   "execution_count": null,
   "metadata": {},
   "outputs": [],
   "source": []
  },
  {
   "cell_type": "code",
   "execution_count": 4,
   "metadata": {},
   "outputs": [
    {
     "name": "stdout",
     "output_type": "stream",
     "text": [
      "\t0, \t  0.2500+0.0000j\n",
      "\t1, \t  0.0957+0.2310j\n",
      "\t2, \t -0.1768+0.1768j\n",
      "\t3, \t -0.2310-0.0957j\n",
      "\t4, \t -0.0000-0.2500j\n",
      "\t5, \t  0.2310-0.0957j\n",
      "\t6, \t  0.1768+0.1768j\n",
      "\t7, \t -0.0957+0.2310j\n",
      "\t8, \t -0.2500+0.0000j\n",
      "\t9, \t -0.0957-0.2310j\n",
      "\t10, \t  0.1768-0.1768j\n",
      "\t11, \t  0.2310+0.0957j\n",
      "\t12, \t  0.0000+0.2500j\n",
      "\t13, \t -0.2310+0.0957j\n",
      "\t14, \t -0.1768-0.1768j\n",
      "\t15, \t  0.0957-0.2310j\n"
     ]
    }
   ],
   "source": [
    "# ref result from the Fourier:\n",
    "nj = 4\n",
    "j_init = 3\n",
    "coef_glob = 1. / np.sqrt(2**nj)\n",
    "for kk in range(2**nj):\n",
    "    coef = coef_glob * np.exp(1j * 2*np.pi * j_init * kk / 2**nj)\n",
    "    print(\"\\t{:d}, \\t{:16.4f}\".format(kk, coef))"
   ]
  },
  {
   "cell_type": "code",
   "execution_count": null,
   "metadata": {},
   "outputs": [],
   "source": []
  },
  {
   "cell_type": "code",
   "execution_count": 5,
   "metadata": {},
   "outputs": [
    {
     "name": "stdout",
     "output_type": "stream",
     "text": [
      "\t0, \t  0.2500+0.0000j\n",
      "\t1, \t  0.0957-0.2310j\n",
      "\t2, \t -0.1768-0.1768j\n",
      "\t3, \t -0.2310+0.0957j\n",
      "\t4, \t -0.0000+0.2500j\n",
      "\t5, \t  0.2310+0.0957j\n",
      "\t6, \t  0.1768-0.1768j\n",
      "\t7, \t -0.0957-0.2310j\n",
      "\t8, \t -0.2500-0.0000j\n",
      "\t9, \t -0.0957+0.2310j\n",
      "\t10, \t  0.1768+0.1768j\n",
      "\t11, \t  0.2310-0.0957j\n",
      "\t12, \t  0.0000-0.2500j\n",
      "\t13, \t -0.2310-0.0957j\n",
      "\t14, \t -0.1768+0.1768j\n",
      "\t15, \t  0.0957+0.2310j\n"
     ]
    }
   ],
   "source": [
    "# ref result from the inverse Fourier:\n",
    "nj = 4\n",
    "j_init = 3\n",
    "coef_glob = 1. / np.sqrt(2**nj)\n",
    "for kk in range(2**nj):\n",
    "    coef = coef_glob * np.exp(-1j * 2*np.pi * j_init * kk / 2**nj)\n",
    "    print(\"\\t{:d}, \\t{:16.4f}\".format(kk, coef))"
   ]
  },
  {
   "cell_type": "code",
   "execution_count": null,
   "metadata": {},
   "outputs": [],
   "source": []
  },
  {
   "cell_type": "code",
   "execution_count": 6,
   "metadata": {},
   "outputs": [
    {
     "name": "stdout",
     "output_type": "stream",
     "text": [
      "Reading the file ./tests/test_Fourier//AA_circuit_OUTPUT.hdf5...\n",
      "Name of the simulation is AA\n",
      "Simulation has been performed  04-04-2022 15:36:00\n"
     ]
    }
   ],
   "source": [
    "# --- Read results from the C++ sim. of the Fourier circuit ---\n",
    "reload(mse)\n",
    "\n",
    "om = mse.MeasOracle__()\n",
    "om.path_ = \"./tests/test_Fourier/\"\n",
    "om.pname_ = \"AA\"\n",
    "om.open()"
   ]
  },
  {
   "cell_type": "code",
   "execution_count": 7,
   "metadata": {},
   "outputs": [
    {
     "name": "stdout",
     "output_type": "stream",
     "text": [
      "Number of initial states: 1\n",
      "\n",
      "Registers: \n",
      "{'c': 2, 'r': 4}\n",
      "\n",
      "\n",
      "-------------------------------------\n",
      "--- Initial state: 0\n",
      "             1.000e+00   |00>|0011>\n",
      "\n",
      " -- full output state --\n",
      "             2.500e-01   |00>|0000>\n",
      "  9.567e-02+2.310e-01j   |00>|0001>\n",
      " -1.768e-01+1.768e-01j   |00>|0010>\n",
      " -2.310e-01-9.567e-02j   |00>|0011>\n",
      "           -2.500e-01j   |00>|0100>\n",
      "  2.310e-01-9.567e-02j   |00>|0101>\n",
      "  1.768e-01+1.768e-01j   |00>|0110>\n",
      " -9.567e-02+2.310e-01j   |00>|0111>\n",
      "            -2.500e-01   |00>|1000>\n",
      " -9.567e-02-2.310e-01j   |00>|1001>\n",
      "  1.768e-01-1.768e-01j   |00>|1010>\n",
      "  2.310e-01+9.567e-02j   |00>|1011>\n",
      "            2.500e-01j   |00>|1100>\n",
      " -2.310e-01+9.567e-02j   |00>|1101>\n",
      " -1.768e-01-1.768e-01j   |00>|1110>\n",
      "  9.567e-02-2.310e-01j   |00>|1111>\n"
     ]
    }
   ],
   "source": [
    "# --- Print full states ---\n",
    "om.print_full_states()"
   ]
  },
  {
   "cell_type": "code",
   "execution_count": null,
   "metadata": {},
   "outputs": [],
   "source": []
  },
  {
   "cell_type": "code",
   "execution_count": 8,
   "metadata": {},
   "outputs": [
    {
     "name": "stdout",
     "output_type": "stream",
     "text": [
      "Number of initial states: 1\n",
      "\n",
      "Registers: \n",
      "{'c': 2, 'r': 4}\n",
      "\n",
      "\n",
      "-------------------------------------\n",
      "--- Initial state: 0\n",
      "             1.000e+00   |00>|0011>\n",
      "\n",
      " -- zero-ancilla output state --\n",
      "             2.500e-01   |00>|0000>\n",
      "  9.567e-02+2.310e-01j   |00>|0001>\n",
      " -1.768e-01+1.768e-01j   |00>|0010>\n",
      " -2.310e-01-9.567e-02j   |00>|0011>\n",
      "           -2.500e-01j   |00>|0100>\n",
      "  2.310e-01-9.567e-02j   |00>|0101>\n",
      "  1.768e-01+1.768e-01j   |00>|0110>\n",
      " -9.567e-02+2.310e-01j   |00>|0111>\n",
      "            -2.500e-01   |00>|1000>\n",
      " -9.567e-02-2.310e-01j   |00>|1001>\n",
      "  1.768e-01-1.768e-01j   |00>|1010>\n",
      "  2.310e-01+9.567e-02j   |00>|1011>\n",
      "            2.500e-01j   |00>|1100>\n",
      " -2.310e-01+9.567e-02j   |00>|1101>\n",
      " -1.768e-01-1.768e-01j   |00>|1110>\n",
      "  9.567e-02-2.310e-01j   |00>|1111>\n"
     ]
    }
   ],
   "source": [
    "# --- Print zero-ancilla states ---\n",
    "om.print_zero_anc_states()"
   ]
  },
  {
   "cell_type": "code",
   "execution_count": null,
   "metadata": {},
   "outputs": [],
   "source": []
  },
  {
   "cell_type": "code",
   "execution_count": null,
   "metadata": {},
   "outputs": [],
   "source": []
  },
  {
   "cell_type": "code",
   "execution_count": 3,
   "metadata": {},
   "outputs": [
    {
     "name": "stdout",
     "output_type": "stream",
     "text": [
      "--- Fourier ---\n",
      "     ┌───┐                                                                ┌───┐   \n",
      "j_0: ┤ X ├────────────────────────■─────────────────■─────────────■───────┤ H ├─X─\n",
      "     └───┘                        │                 │       ┌───┐ │P(π/2) └───┘ │ \n",
      "j_1: ───────────────■─────────────┼────────■────────┼───────┤ H ├─■─────────X───┼─\n",
      "                    │       ┌───┐ │        │P(π/2)  │P(π/4) └───┘           │   │ \n",
      "j_2: ──────■────────┼───────┤ H ├─┼────────■────────■───────────────────────X───┼─\n",
      "     ┌───┐ │P(π/2)  │P(π/4) └───┘ │P(π/8)                                       │ \n",
      "j_3: ┤ H ├─■────────■─────────────■─────────────────────────────────────────────X─\n",
      "     └───┘                                                                        \n",
      "2.500e-01+0.000e+00j |0000>   \n",
      "2.310e-01+9.567e-02j |1000>   \n",
      "1.768e-01+1.768e-01j |0100>   \n",
      "9.567e-02+2.310e-01j |1100>   \n",
      "0.000e+00+2.500e-01j |0010>   \n",
      "-9.567e-02+2.310e-01j |1010>   \n",
      "-1.768e-01+1.768e-01j |0110>   \n",
      "-2.310e-01+9.567e-02j |1110>   \n",
      "-2.500e-01+0.000e+00j |0001>   \n",
      "-2.310e-01-9.567e-02j |1001>   \n",
      "-1.768e-01-1.768e-01j |0101>   \n",
      "-9.567e-02-2.310e-01j |1101>   \n",
      "-0.000e+00-2.500e-01j |0011>   \n",
      "9.567e-02-2.310e-01j |1011>   \n",
      "1.768e-01-1.768e-01j |0111>   \n",
      "2.310e-01-9.567e-02j |1111>   \n",
      "\n"
     ]
    }
   ],
   "source": [
    "# ----------------------------------------------------\n",
    "# --- Fourier transform in QISKIT ---\n",
    "# ----------------------------------------------------\n",
    "reload(lib)\n",
    "\n",
    "nj = 4\n",
    "rj = qiskit.QuantumRegister(nj, \"j\")\n",
    "qc_fourier = qiskit.QuantumCircuit(rj, name=\"F\")\n",
    "\n",
    "# --- init ---\n",
    "qc_fourier.x(0)\n",
    "# qc_fourier.x(1)\n",
    "# qc_fourier.x(nj-1)\n",
    "\n",
    "# --- Fourier circuit ---\n",
    "qc_fourier, gate_fourier, inv_gate_fourier = lib.get_Fourier(nj, flag_also_inv=True, qc_fourier=qc_fourier)\n",
    "\n",
    "# --- Analysis ---\n",
    "print(\"--- Fourier ---\")\n",
    "print(qc_fourier.draw(fold = 120))\n",
    "str_wv, pp, qq = lib.Wavefunction_adv(qc_fourier, column=True, systems=[1], width=16, ff = \"{:20.3e}\")\n",
    "print(str_wv)\n",
    "\n",
    "del qc_fourier, gate_fourier, inv_gate_fourier"
   ]
  },
  {
   "cell_type": "code",
   "execution_count": null,
   "metadata": {},
   "outputs": [],
   "source": []
  },
  {
   "cell_type": "code",
   "execution_count": null,
   "metadata": {},
   "outputs": [],
   "source": []
  }
 ],
 "metadata": {
  "kernelspec": {
   "display_name": "Python 3",
   "language": "python",
   "name": "python3"
  },
  "language_info": {
   "codemirror_mode": {
    "name": "ipython",
    "version": 3
   },
   "file_extension": ".py",
   "mimetype": "text/x-python",
   "name": "python",
   "nbconvert_exporter": "python",
   "pygments_lexer": "ipython3",
   "version": "3.6.9"
  }
 },
 "nbformat": 4,
 "nbformat_minor": 4
}
