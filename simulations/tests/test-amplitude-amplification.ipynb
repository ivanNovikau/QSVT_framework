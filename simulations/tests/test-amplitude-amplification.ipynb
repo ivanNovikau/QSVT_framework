{
 "cells": [
  {
   "cell_type": "code",
   "execution_count": 1,
   "metadata": {},
   "outputs": [
    {
     "data": {
      "text/html": [
       "        <script type=\"text/javascript\">\n",
       "        window.PlotlyConfig = {MathJaxConfig: 'local'};\n",
       "        if (window.MathJax) {MathJax.Hub.Config({SVG: {font: \"STIX-Web\"}});}\n",
       "        if (typeof require !== 'undefined') {\n",
       "        require.undef(\"plotly\");\n",
       "        requirejs.config({\n",
       "            paths: {\n",
       "                'plotly': ['https://cdn.plot.ly/plotly-2.9.0.min']\n",
       "            }\n",
       "        });\n",
       "        require(['plotly'], function(Plotly) {\n",
       "            window._Plotly = Plotly;\n",
       "        });\n",
       "        }\n",
       "        </script>\n",
       "        "
      ]
     },
     "metadata": {},
     "output_type": "display_data"
    },
    {
     "name": "stdout",
     "output_type": "stream",
     "text": [
      "/media/work/docs/codes/c++/QSVT_framework/simulations\n"
     ]
    }
   ],
   "source": [
    "%matplotlib notebook\n",
    "from plotly.offline import init_notebook_mode\n",
    "init_notebook_mode(connected=True)\n",
    "from IPython.core.display import display, HTML\n",
    "import numpy as np\n",
    "import matplotlib.pyplot as plt\n",
    "\n",
    "import importlib as imp\n",
    "%cd ../"
   ]
  },
  {
   "cell_type": "code",
   "execution_count": 2,
   "metadata": {},
   "outputs": [
    {
     "data": {
      "text/plain": [
       "10503"
      ]
     },
     "execution_count": 2,
     "metadata": {},
     "output_type": "execute_result"
    }
   ],
   "source": [
    "import os\n",
    "import qiskit\n",
    "import XW_waves.xw_1d as xw\n",
    "mix = xw.mix\n",
    "mse = xw.mse\n",
    "reload = mix.reload_module\n",
    "import pylib.circuit_lib as lib\n",
    "os.getpid()"
   ]
  },
  {
   "cell_type": "code",
   "execution_count": null,
   "metadata": {},
   "outputs": [],
   "source": []
  },
  {
   "cell_type": "code",
   "execution_count": 5,
   "metadata": {},
   "outputs": [
    {
     "name": "stdout",
     "output_type": "stream",
     "text": [
      "   ┌────────────┐┌───┐\n",
      "a: ┤ Ry(2.9413) ├┤ X ├\n",
      "   └────────────┘└───┘\n",
      "        0.995+0.000j |0>   \n",
      "        0.100+0.000j |1>   \n",
      "\n",
      "prob. of GS: 1.000e-02\n",
      "prob. of BS: 9.900e-01\n",
      "BS + GS: 1.000e+00\n",
      "optimal number of amplification operators:  7.840854384487761\n"
     ]
    },
    {
     "data": {
      "text/plain": [
       "(0.010000000000000002, 0.9900051001000001)"
      ]
     },
     "execution_count": 5,
     "metadata": {},
     "output_type": "execute_result"
    }
   ],
   "source": [
    "# -------------------------------------------\n",
    "# --- Create initial circuit (operator A) ---\n",
    "# -------------------------------------------\n",
    "a = qiskit.QuantumRegister(1, \"a\")\n",
    "qc = qiskit.QuantumCircuit(a,name=\"A\")\n",
    "\n",
    "coef_v = 0.1\n",
    "qc.ry(2*np.arccos(coef_v), a)\n",
    "\n",
    "# set |1> as a good state:\n",
    "qc.x(a)\n",
    "\n",
    "# store the circuit as a gate:\n",
    "gA = qc.to_gate()\n",
    "\n",
    "print(qc.draw(fold = 110))\n",
    "\n",
    "str_wv, pp, qq = lib.Wavefunction_adv(qc, column=True, systems=[1], width=10)\n",
    "print(str_wv)\n",
    "lib.analysis_prob(pp, qq)"
   ]
  },
  {
   "cell_type": "code",
   "execution_count": null,
   "metadata": {},
   "outputs": [],
   "source": []
  },
  {
   "cell_type": "code",
   "execution_count": 6,
   "metadata": {},
   "outputs": [
    {
     "name": "stdout",
     "output_type": "stream",
     "text": [
      "   ┌───┐┌──────┐┌───┐┌───┐┌───┐┌───┐\n",
      "a: ┤ Z ├┤ A_dg ├┤ X ├┤ Z ├┤ X ├┤ A ├\n",
      "   └───┘└──────┘└───┘└───┘└───┘└───┘\n"
     ]
    }
   ],
   "source": [
    "# -----------------------------------------\n",
    "# --- Amplitude amplification circuit ---\n",
    "# -----------------------------------------\n",
    "\n",
    "# Q = - A R_0 A^{-1} R_good;\n",
    "# |good> = |1>\n",
    "\n",
    "a = qiskit.QuantumRegister(1, \"a\")\n",
    "\n",
    "qc = qiskit.QuantumCircuit(a,name=\"AA\")\n",
    "\n",
    "# sign change of good state (state |1>)\n",
    "qc.z(a)\n",
    "\n",
    "# inverse creation gate\n",
    "gAi = gA.inverse()\n",
    "qc.append(gAi, a)\n",
    "\n",
    "# sign change of zero state \n",
    "qc.x(a)\n",
    "qc.z(a)\n",
    "qc.x(a)\n",
    "\n",
    "# the creation gate again:\n",
    "qc.append(gA, a)\n",
    "\n",
    "print(qc.draw())\n",
    "\n",
    "gAA = qc.to_gate()"
   ]
  },
  {
   "cell_type": "code",
   "execution_count": null,
   "metadata": {},
   "outputs": [],
   "source": []
  },
  {
   "cell_type": "code",
   "execution_count": 8,
   "metadata": {},
   "outputs": [
    {
     "name": "stdout",
     "output_type": "stream",
     "text": [
      "--- before amplification ---\n",
      "   ┌───┐\n",
      "a: ┤ A ├\n",
      "   └───┘\n",
      "        0.995+0.000j |0>   \n",
      "        0.100+0.000j |1>   \n",
      "\n",
      "prob. of GS: 1.000e-02\n",
      "prob. of BS: 9.900e-01\n",
      "BS + GS: 1.000e+00\n",
      "optimal number of amplification operators:  7.840854384487761\n",
      "\n",
      "\n",
      "--- after the 8-th amplifications ---\n",
      "   ┌───┐┌────┐┌────┐┌────┐┌────┐┌────┐┌────┐┌────┐┌────┐\n",
      "a: ┤ A ├┤ AA ├┤ AA ├┤ AA ├┤ AA ├┤ AA ├┤ AA ├┤ AA ├┤ AA ├\n",
      "   └───┘└────┘└────┘└────┘└────┘└────┘└────┘└────┘└────┘\n",
      "       -0.132+0.000j |0>   \n",
      "        0.991+0.000j |1>   \n",
      "\n",
      "prob. of GS: 9.827e-01\n",
      "prob. of BS: 1.734e-02\n",
      "BS + GS: 1.000e+00\n",
      "optimal number of amplification operators:  0.5459023467761799\n"
     ]
    },
    {
     "data": {
      "text/plain": [
       "(0.9826558641, 0.017336988900000003)"
      ]
     },
     "execution_count": 8,
     "metadata": {},
     "output_type": "execute_result"
    }
   ],
   "source": [
    "# ---------------------------------------\n",
    "# --- The whole circuit ---\n",
    "# ---------------------------------------\n",
    "a = qiskit.QuantumRegister(1, \"a\")\n",
    "\n",
    "qc = qiskit.QuantumCircuit(a,name=\"AA\")\n",
    "qc.append(gA, a)\n",
    "\n",
    "print(\"--- before amplification ---\")\n",
    "print(qc.draw(fold = 110))\n",
    "str_wv, pp, qq = lib.Wavefunction_adv(qc, column=True, systems=[1], width=10)\n",
    "print(str_wv)\n",
    "lib.analysis_prob(pp, qq)\n",
    "\n",
    "# -------------------------------------------------------------------------------\n",
    "# --- Several amplifications at one ---\n",
    "na = 8 # number of amplitifications\n",
    "\n",
    "print(\"\\n\\n--- after the {:d}-th amplifications ---\".format(na))\n",
    "for ii in range(na):\n",
    "    qc.append(gAA, a)\n",
    "print(qc.draw(fold = 110))\n",
    "str_wv, pp, qq = lib.Wavefunction_adv(qc, column=True, systems=[1], width=10)\n",
    "print(str_wv)\n",
    "lib.analysis_prob(pp, qq)\n",
    "\n",
    "\n",
    "# # -------------------------------------------------------------------------------\n",
    "# # --- Amplificaitions: one by one ---\n",
    "# print(\"\\n\\n--- after the 1-st amplification ---\")\n",
    "# qc.append(gAA, a)\n",
    "# print(qc.draw(fold = 110))\n",
    "# str_wv, pp, qq = lib.Wavefunction_adv(qc, column=True, systems=[1], width=10)\n",
    "# print(str_wv)\n",
    "# lib.analysis_prob(pp, qq)\n",
    "\n",
    "# print(\"\\n\\n--- after the 2-nd amplification ---\")\n",
    "# qc.append(gAA, a)\n",
    "# print(qc.draw(fold = 110))\n",
    "# str_wv, pp, qq = lib.Wavefunction_adv(qc, column=True, systems=[1], width=10)\n",
    "# print(str_wv)\n",
    "# lib.analysis_prob(pp, qq)\n",
    "\n",
    "# print(\"\\n\\n--- after the 3-rd amplification ---\")\n",
    "# qc.append(gAA, a)\n",
    "# print(qc.draw(fold = 110))\n",
    "# str_wv, pp, qq = lib.Wavefunction_adv(qc, column=True, systems=[1], width=10)\n",
    "# print(str_wv)\n",
    "# lib.analysis_prob(pp, qq)"
   ]
  },
  {
   "cell_type": "code",
   "execution_count": null,
   "metadata": {},
   "outputs": [],
   "source": []
  }
 ],
 "metadata": {
  "kernelspec": {
   "display_name": "Python 3",
   "language": "python",
   "name": "python3"
  },
  "language_info": {
   "codemirror_mode": {
    "name": "ipython",
    "version": 3
   },
   "file_extension": ".py",
   "mimetype": "text/x-python",
   "name": "python",
   "nbconvert_exporter": "python",
   "pygments_lexer": "ipython3",
   "version": "3.6.9"
  }
 },
 "nbformat": 4,
 "nbformat_minor": 5
}
