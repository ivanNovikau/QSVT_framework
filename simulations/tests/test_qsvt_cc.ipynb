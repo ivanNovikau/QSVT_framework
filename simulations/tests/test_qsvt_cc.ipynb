{
 "cells": [
  {
   "cell_type": "code",
   "execution_count": 1,
   "metadata": {},
   "outputs": [
    {
     "name": "stdout",
     "output_type": "stream",
     "text": [
      "12399\n",
      "/media/work/docs/codes/c++/QSVT_framework/simulations\n"
     ]
    }
   ],
   "source": [
    "from IPython.core.display import display, HTML\n",
    "import scipy.constants as sc\n",
    "from scipy.optimize import fsolve\n",
    "from ipywidgets import interact, widgets\n",
    "%matplotlib notebook\n",
    "\n",
    "import numpy as np\n",
    "import cmath\n",
    "import matplotlib.pyplot as plt\n",
    "import scipy.constants as sc\n",
    "plt.rcParams.update({\n",
    "    \"text.usetex\": True,\n",
    "    'text.latex.preamble': r\"\\usepackage{amsmath} \\boldmath\"\n",
    "})\n",
    "import os\n",
    "\n",
    "print(os.getpid())\n",
    "%cd ../"
   ]
  },
  {
   "cell_type": "code",
   "execution_count": 3,
   "metadata": {},
   "outputs": [],
   "source": [
    "import pylib.mix as mix"
   ]
  },
  {
   "cell_type": "code",
   "execution_count": 56,
   "metadata": {},
   "outputs": [
    {
     "name": "stdout",
     "output_type": "stream",
     "text": [
      "Solution: \n",
      "-4.000-18.000j -10.000+20.000j \n",
      "Recheck: \n",
      " 1.000-0.000j  0.000+0.000j \n",
      "\n",
      "\n",
      "--- Angles ---\n",
      "ang11_z \t-2.498091544797e+00\n",
      "ang11_y \t1.772154247585e+00\n",
      "\n",
      "ang12_z \t-9.272952180016e-01\n",
      "ang12_y \t2.214297435588e+00\n",
      "\n",
      "ang21_z \t-1.854590436003e+00\n",
      "ang21_y \t0.000000000000e+00\n",
      "\n",
      "ang22_z \t-4.899573262537e-01\n",
      "ang22_y \t1.202528433358e+00\n",
      "\n",
      "\n",
      "ang11_z_cc \t2.498091544797e+00\n",
      "ang11_y_cc \t1.772154247585e+00\n",
      "\n",
      "ang12_z_cc \t9.272952180016e-01\n",
      "ang12_y_cc \t2.214297435588e+00\n",
      "\n",
      "ang21_z_cc \t1.854590436003e+00\n",
      "ang21_y_cc \t0.000000000000e+00\n",
      "\n",
      "ang22_z_cc \t4.899573262537e-01\n",
      "ang22_y_cc \t1.202528433358e+00\n"
     ]
    }
   ],
   "source": [
    "mix.reload_module(mix)\n",
    "\n",
    "a11 = 0.1 + 0.3j\n",
    "a12 = 0.2 + 0.1j\n",
    "a21 = 0.3 + 0.4j\n",
    "a22 = 0.4 + 0.1j\n",
    "\n",
    "AA = np.array([\n",
    "    [a11, a12],\n",
    "    [a21, a22]\n",
    "], dtype = np.complex)\n",
    "b = np.array([1.0, 0.0])\n",
    "\n",
    "A_inv = np.linalg.inv(AA)\n",
    "\n",
    "xx = np.dot(A_inv, b)\n",
    "\n",
    "print(\"Solution: \")\n",
    "mix.print_array(xx)\n",
    "\n",
    "print(\"Recheck: \")\n",
    "bb_recheck = np.dot(AA, xx)\n",
    "mix.print_array(bb_recheck)\n",
    "\n",
    "print(\"\\n\")\n",
    "print(\"--- Angles ---\")\n",
    "dH = 2.0\n",
    "ang11_z, ang11_y  = mix.get_Rc_angles(dH*a11)\n",
    "ang12_z, ang12_y  = mix.get_Rc_angles(dH*a12)\n",
    "ang21_z, ang21_y  = mix.get_Rc_angles(dH*a21)\n",
    "ang22_z, ang22_y  = mix.get_Rc_angles(dH*a22)\n",
    "\n",
    "print(\"ang11_z \\t{:0.12e}\".format(ang11_z))\n",
    "print(\"ang11_y \\t{:0.12e}\".format(ang11_y))\n",
    "print()\n",
    "print(\"ang12_z \\t{:0.12e}\".format(ang12_z))\n",
    "print(\"ang12_y \\t{:0.12e}\".format(ang12_y))\n",
    "print()\n",
    "print(\"ang21_z \\t{:0.12e}\".format(ang21_z))\n",
    "print(\"ang21_y \\t{:0.12e}\".format(ang21_y))\n",
    "print()\n",
    "print(\"ang22_z \\t{:0.12e}\".format(ang22_z))\n",
    "print(\"ang22_y \\t{:0.12e}\".format(ang22_y))\n",
    "\n",
    "# --- angles for the complex-conjugated (not transposed) matrix:\n",
    "AA_cc = np.conjugate(AA)\n",
    "\n",
    "ang11_z_cc, ang11_y_cc  = mix.get_Rc_angles(dH*AA_cc[0,0])\n",
    "ang12_z_cc, ang12_y_cc  = mix.get_Rc_angles(dH*AA_cc[0,1])\n",
    "ang21_z_cc, ang21_y_cc  = mix.get_Rc_angles(dH*AA_cc[1,0])\n",
    "ang22_z_cc, ang22_y_cc  = mix.get_Rc_angles(dH*AA_cc[1,1])\n",
    "\n",
    "print()\n",
    "print()\n",
    "print(\"ang11_z_cc \\t{:0.12e}\".format(ang11_z_cc))\n",
    "print(\"ang11_y_cc \\t{:0.12e}\".format(ang11_y_cc))\n",
    "print()\n",
    "print(\"ang12_z_cc \\t{:0.12e}\".format(ang12_z_cc))\n",
    "print(\"ang12_y_cc \\t{:0.12e}\".format(ang12_y_cc))\n",
    "print()\n",
    "print(\"ang21_z_cc \\t{:0.12e}\".format(ang21_z_cc))\n",
    "print(\"ang21_y_cc \\t{:0.12e}\".format(ang21_y_cc))\n",
    "print()\n",
    "print(\"ang22_z_cc \\t{:0.12e}\".format(ang22_z_cc))\n",
    "print(\"ang22_y_cc \\t{:0.12e}\".format(ang22_y_cc))"
   ]
  },
  {
   "cell_type": "code",
   "execution_count": null,
   "metadata": {},
   "outputs": [],
   "source": []
  },
  {
   "cell_type": "code",
   "execution_count": 53,
   "metadata": {},
   "outputs": [
    {
     "name": "stdout",
     "output_type": "stream",
     "text": [
      "complex conjugated solution: \n",
      "-4.000+18.000j -10.000-20.000j \n",
      "Recheck: \n",
      " 1.000+0.000j  0.000+0.000j \n"
     ]
    }
   ],
   "source": [
    "print(\"complex conjugated solution: \")\n",
    "# AA_cc    = np.conjugate(AA).T\n",
    "# A_inv_cc = np.linalg.inv(AA_cc)\n",
    "# xx_cc    = np.dot(A_inv_cc, b)\n",
    "# mix.print_array(xx_cc)\n",
    "\n",
    "\n",
    "A_inv_cc = np.linalg.inv(AA_cc)\n",
    "xx_cc    = np.dot(A_inv_cc, b)\n",
    "mix.print_array(xx_cc)\n",
    "\n",
    "print(\"Recheck: \")\n",
    "mix.print_array(np.dot(AA_cc, xx_cc))"
   ]
  },
  {
   "cell_type": "code",
   "execution_count": null,
   "metadata": {},
   "outputs": [],
   "source": []
  },
  {
   "cell_type": "code",
   "execution_count": 28,
   "metadata": {},
   "outputs": [
    {
     "name": "stdout",
     "output_type": "stream",
     "text": [
      "xx0           -18.0-4.0j\n",
      "xx1           20.0-10.0j\n"
     ]
    }
   ],
   "source": [
    "xx_0_qsvt = (4.500e-03  + 1.000e-03j) * 500 * 8\n",
    "xx_1_qsvt = (-5.000e-03 + 2.500e-03j) * 500 * 8\n",
    "\n",
    "print(\"xx0 {:20.1f}\".format(-xx_0_qsvt))\n",
    "print(\"xx1 {:20.1f}\".format(-xx_1_qsvt))"
   ]
  },
  {
   "cell_type": "code",
   "execution_count": null,
   "metadata": {},
   "outputs": [],
   "source": []
  }
 ],
 "metadata": {
  "kernelspec": {
   "display_name": "Python 3",
   "language": "python",
   "name": "python3"
  },
  "language_info": {
   "codemirror_mode": {
    "name": "ipython",
    "version": 3
   },
   "file_extension": ".py",
   "mimetype": "text/x-python",
   "name": "python",
   "nbconvert_exporter": "python",
   "pygments_lexer": "ipython3",
   "version": "3.6.9"
  }
 },
 "nbformat": 4,
 "nbformat_minor": 4
}
