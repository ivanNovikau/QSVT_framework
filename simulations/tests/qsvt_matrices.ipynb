{
 "cells": [
  {
   "cell_type": "code",
   "execution_count": 1,
   "metadata": {},
   "outputs": [
    {
     "data": {
      "text/html": [
       "        <script type=\"text/javascript\">\n",
       "        window.PlotlyConfig = {MathJaxConfig: 'local'};\n",
       "        if (window.MathJax) {MathJax.Hub.Config({SVG: {font: \"STIX-Web\"}});}\n",
       "        if (typeof require !== 'undefined') {\n",
       "        require.undef(\"plotly\");\n",
       "        requirejs.config({\n",
       "            paths: {\n",
       "                'plotly': ['https://cdn.plot.ly/plotly-2.9.0.min']\n",
       "            }\n",
       "        });\n",
       "        require(['plotly'], function(Plotly) {\n",
       "            window._Plotly = Plotly;\n",
       "        });\n",
       "        }\n",
       "        </script>\n",
       "        "
      ]
     },
     "metadata": {},
     "output_type": "display_data"
    },
    {
     "name": "stdout",
     "output_type": "stream",
     "text": [
      "19403\n",
      "/media/work/docs/codes/c++/QSVT_framework/simulations\n"
     ]
    }
   ],
   "source": [
    "from plotly.offline import init_notebook_mode\n",
    "init_notebook_mode(connected=True)\n",
    "from IPython.core.display import display, HTML\n",
    "import scipy.constants as sc\n",
    "from scipy.optimize import fsolve\n",
    "from ipywidgets import interact, widgets\n",
    "%matplotlib notebook\n",
    "\n",
    "import numpy as np\n",
    "import cmath\n",
    "import matplotlib.pyplot as plt\n",
    "import scipy.constants as sc\n",
    "plt.rcParams.update({\n",
    "    \"text.usetex\": True,\n",
    "    'text.latex.preamble': r\"\\usepackage{amsmath} \\boldmath\"\n",
    "})\n",
    "import os\n",
    "\n",
    "print(os.getpid())\n",
    "%cd ../"
   ]
  },
  {
   "cell_type": "code",
   "execution_count": null,
   "metadata": {},
   "outputs": [],
   "source": []
  },
  {
   "cell_type": "code",
   "execution_count": 2,
   "metadata": {},
   "outputs": [
    {
     "ename": "ModuleNotFoundError",
     "evalue": "No module named 'QSP'",
     "output_type": "error",
     "traceback": [
      "\u001b[0;31m---------------------------------------------------------------------------\u001b[0m",
      "\u001b[0;31mModuleNotFoundError\u001b[0m                       Traceback (most recent call last)",
      "\u001b[0;32m<ipython-input-2-d1f46e464146>\u001b[0m in \u001b[0;36m<module>\u001b[0;34m\u001b[0m\n\u001b[0;32m----> 1\u001b[0;31m \u001b[0;32mimport\u001b[0m \u001b[0mQSP\u001b[0m\u001b[0;34m.\u001b[0m\u001b[0mexamples\u001b[0m\u001b[0;34m.\u001b[0m\u001b[0minverse_XW1D\u001b[0m\u001b[0;34m.\u001b[0m\u001b[0minitialization\u001b[0m \u001b[0;32mas\u001b[0m \u001b[0minitialization\u001b[0m\u001b[0;34m\u001b[0m\u001b[0;34m\u001b[0m\u001b[0m\n\u001b[0m\u001b[1;32m      2\u001b[0m \u001b[0;32mimport\u001b[0m \u001b[0mQSP\u001b[0m\u001b[0;34m.\u001b[0m\u001b[0mexamples\u001b[0m\u001b[0;34m.\u001b[0m\u001b[0minverse_XW1D\u001b[0m\u001b[0;34m.\u001b[0m\u001b[0msim\u001b[0m \u001b[0;32mas\u001b[0m \u001b[0msim\u001b[0m\u001b[0;34m\u001b[0m\u001b[0;34m\u001b[0m\u001b[0m\n\u001b[1;32m      3\u001b[0m \u001b[0;32mimport\u001b[0m \u001b[0mQSP\u001b[0m\u001b[0;34m.\u001b[0m\u001b[0mexamples\u001b[0m\u001b[0;34m.\u001b[0m\u001b[0minverse_XW1D\u001b[0m\u001b[0;34m.\u001b[0m\u001b[0mplotting\u001b[0m \u001b[0;32mas\u001b[0m \u001b[0mpl\u001b[0m\u001b[0;34m\u001b[0m\u001b[0;34m\u001b[0m\u001b[0m\n",
      "\u001b[0;31mModuleNotFoundError\u001b[0m: No module named 'QSP'"
     ]
    }
   ],
   "source": [
    "import QSP.examples.inverse_XW1D.initialization as initialization\n",
    "import QSP.examples.inverse_XW1D.sim as sim\n",
    "import QSP.examples.inverse_XW1D.plotting as pl\n"
   ]
  },
  {
   "cell_type": "code",
   "execution_count": null,
   "metadata": {},
   "outputs": [],
   "source": []
  },
  {
   "cell_type": "code",
   "execution_count": 8,
   "metadata": {},
   "outputs": [],
   "source": [
    "import pylib.measurement as mse\n",
    "import pylib.mix as mix\n",
    "def get_norm(AA):\n",
    "    N = len(AA)\n",
    "    \n",
    "    max_root = 0\n",
    "    for i in range(N):\n",
    "        sr = np.sqrt(np.sum(np.abs(AA[i, :])**2))\n",
    "        if sr > max_root:\n",
    "            max_root = sr\n",
    "    return max_root"
   ]
  },
  {
   "cell_type": "code",
   "execution_count": null,
   "metadata": {},
   "outputs": [],
   "source": []
  },
  {
   "cell_type": "code",
   "execution_count": 12,
   "metadata": {},
   "outputs": [
    {
     "name": "stdout",
     "output_type": "stream",
     "text": [
      "--- 0 ---\n",
      "        0.350           0.167           0.000           0.000\n",
      "--- 1 ---\n",
      "        0.250           0.433           0.000           0.000\n",
      "--- 2 ---\n",
      "        0.000           0.000          -0.441           0.000\n",
      "--- 3 ---\n",
      "        0.000           0.000           0.000           0.358\n",
      "\n",
      "-- singular values --\n",
      "    6.059993e-01     4.414215e-01     3.581344e-01     1.813169e-01 \n",
      "\n",
      "-- U matrix --\n",
      "--- 0 ---\n",
      "   -5.921370e-01       0.000000e+00       0.000000e+00      -8.058373e-01\n",
      "--- 1 ---\n",
      "   -8.058373e-01       0.000000e+00       0.000000e+00       5.921370e-01\n",
      "--- 2 ---\n",
      "    0.000000e+00       1.000000e+00       0.000000e+00       0.000000e+00\n",
      "--- 3 ---\n",
      "    0.000000e+00       0.000000e+00       1.000000e+00       0.000000e+00\n",
      "\n",
      "-- VH matrix --\n",
      "--- 0 ---\n",
      "   -6.740608e-01      -7.386758e-01      -0.000000e+00      -0.000000e+00\n",
      "--- 1 ---\n",
      "   -0.000000e+00      -0.000000e+00      -1.000000e+00      -0.000000e+00\n",
      "--- 2 ---\n",
      "    0.000000e+00       0.000000e+00       0.000000e+00       1.000000e+00\n",
      "--- 3 ---\n",
      "   -7.386758e-01       6.740608e-01       0.000000e+00       0.000000e+00\n",
      "\n",
      "--- Oracle angles ---\n",
      "aa 1.591886e+00\n",
      "ab 2.462311e+00\n",
      "ba 2.095036e+00\n",
      "ac 1.046557e+00\n",
      "ad 4.055957e+00\n",
      "aw 2.409055e+00\n",
      "writing the initial state of AA\n",
      "\n",
      "\n",
      "--- normalized result\n",
      "0.000e+00+0.000e+00j 0.000e+00+0.000e+00j 0.000e+00+0.000e+00j 9.811e-01-1.937e-01j \n"
     ]
    }
   ],
   "source": [
    "# --- Time simulation of Non-Hermitian (real) ---\n",
    "mix.reload_module(mix)\n",
    "\n",
    "def get_a(v):\n",
    "#     return 2 * np.arccos(np.sqrt(np.abs(v)))  # for general state-preparation oracle\n",
    "    return 2 * np.arccos(v)  # for real matrix\n",
    "\n",
    "name_file_start = \"AA\"\n",
    "path_root = \"./tests/dynamic_non_hermitian/\"\n",
    "\n",
    "a11 = 4.2; a12 = 2;\n",
    "a22 = 5.2;\n",
    "a33 = -5.3;\n",
    "a44 = 4.3;\n",
    "\n",
    "a21 = np.conjugate(a12+1)\n",
    "\n",
    "AA = np.array([\n",
    "    [a11, a12, 0, 0],\n",
    "    [a21, a22, 0, 0],\n",
    "    [0, 0, a33, 0],\n",
    "    [0, 0, 0, a44]\n",
    "])\n",
    "d = 2\n",
    "\n",
    "# --- create normalized matrix and find its eig. v ---\n",
    "coef_norm = get_norm(AA) * d\n",
    "AA_norm = AA / coef_norm\n",
    "U, S, VH = np.linalg.svd(AA_norm)  # AA_norm = U S VH\n",
    "\n",
    "# print(\"-- U matrix --\")\n",
    "# mix.print_matrix(AA)\n",
    "\n",
    "# print(\"\\n-- normalized matrix --\")\n",
    "mix.print_matrix(AA_norm)\n",
    "\n",
    "print(\"\\n-- singular values --\")\n",
    "mix.print_array(S, ff=[16,6,\"e\"])\n",
    "\n",
    "print(\"\\n-- U matrix --\")\n",
    "mix.print_matrix(U, ff=[16,6,\"e\"])\n",
    "\n",
    "print(\"\\n-- VH matrix --\")\n",
    "mix.print_matrix(VH, ff=[16,6,\"e\"])\n",
    "\n",
    "# --- calculate angles for the oracle ---\n",
    "print(\"\\n--- Oracle angles ---\")\n",
    "print(\"aa {:0.6e}\".format(get_a(AA_norm[0,0]*d)))\n",
    "print(\"ab {:0.6e}\".format(get_a(AA_norm[0,1]*d)))\n",
    "print(\"ba {:0.6e}\".format(get_a(AA_norm[1,0]*d)))\n",
    "print(\"ac {:0.6e}\".format(get_a(AA_norm[1,1]*d)))\n",
    "print(\"ad {:0.6e}\".format(get_a(AA_norm[2,2])))\n",
    "print(\"aw {:0.6e}\".format(get_a(AA_norm[3,3])))\n",
    "\n",
    "# --- write down the initial state to the .init file ---\n",
    "ii1 = 2 # id of eigv, starting from 0\n",
    "\n",
    "N = len(AA)\n",
    "xr = np.real(U[:,ii1])\n",
    "xi = np.imag(U[:,ii1])\n",
    "res_init_state = xr + 1j*xi\n",
    "norm_state = np.sqrt(np.sum(np.abs(res_init_state)**2))\n",
    "res_init_state = res_init_state / norm_state\n",
    "xr = xr / norm_state\n",
    "xi = xi / norm_state\n",
    "mix.write_init_state(name_file_start, path_root, xr, xi)\n",
    "\n",
    "# --- Calculate the resulting state ---\n",
    "t = 17\n",
    "\n",
    "res_VH = np.transpose(VH)[:,ii1]\n",
    "res_h = np.cos(t * S[ii1]) * res_init_state + 1j*np.sin(t * S[ii1]) * res_VH\n",
    "\n",
    "norm_res = np.sqrt(np.sum(np.abs(res_h)**2))\n",
    "res_h = res_h/norm_res\n",
    "print(\"\\n\\n--- normalized result\")\n",
    "mix.print_array(res_h, ff = [18, 3, \"e\"])"
   ]
  },
  {
   "cell_type": "code",
   "execution_count": 14,
   "metadata": {},
   "outputs": [
    {
     "name": "stdout",
     "output_type": "stream",
     "text": [
      "Reading a file ./tests/dynamic_non_hermitian//AA_OUTPUT.hdf5...\n",
      "Name of the simulation is AA\n",
      "Simulation has been performed  03-14-2022 23:23:45\n",
      "--- Resulting relative amplitudes ---\n",
      "Registers: \n",
      "{'qb': 2, 'a': 1, 'c': 2, 'r': 2}\n",
      "\n",
      "                   -9.811e-01+1.937e-01j   |00>|0>|00>|11>\n"
     ]
    }
   ],
   "source": [
    "# --- Read the quantum state ---\n",
    "mix.reload_module(mix)\n",
    "mix.reload_module(mse)\n",
    "\n",
    "oor = mse.MeasDyn__();\n",
    "oor.pname_ = name_file_start\n",
    "oor.path_  = path_root\n",
    "\n",
    "oor.open()\n",
    "oor.read_output_states()\n",
    "\n",
    "print(\"--- Resulting relative amplitudes ---\")\n",
    "oor.print_rel_state(-1)"
   ]
  },
  {
   "cell_type": "code",
   "execution_count": null,
   "metadata": {},
   "outputs": [],
   "source": []
  },
  {
   "cell_type": "code",
   "execution_count": null,
   "metadata": {},
   "outputs": [],
   "source": []
  },
  {
   "cell_type": "code",
   "execution_count": null,
   "metadata": {},
   "outputs": [],
   "source": []
  },
  {
   "cell_type": "code",
   "execution_count": null,
   "metadata": {},
   "outputs": [],
   "source": []
  },
  {
   "cell_type": "code",
   "execution_count": null,
   "metadata": {},
   "outputs": [],
   "source": []
  },
  {
   "cell_type": "code",
   "execution_count": null,
   "metadata": {},
   "outputs": [],
   "source": []
  },
  {
   "cell_type": "code",
   "execution_count": 4,
   "metadata": {},
   "outputs": [
    {
     "name": "stdout",
     "output_type": "stream",
     "text": [
      "writing the initial state of AA\n",
      "-- chosen eigenvector ---\n",
      " 0.000+0.000j  0.000+0.000j  0.000+0.000j  1.000+0.000j \n",
      "\n",
      "-- resulting exp(-i*t*lambda)|lambda> ---\n",
      "0.000e+00+0.000e+00j 0.000e+00+0.000e+00j 0.000e+00+0.000e+00j 5.152e-01+8.571e-01j \n"
     ]
    }
   ],
   "source": [
    "# --- For Hamiltonian simulation of the matrix AA0 ---\n",
    "mix.reload_module(mix)\n",
    "\n",
    "name_file_start = \"AA\"\n",
    "path_root = \"./QSP/examples/test_inverse/dynamic_hermitian/\"\n",
    "\n",
    "ii = 3 # id of eigv, starting from 0\n",
    "\n",
    "eigenvectors_matrix = np.identity(4);\n",
    "eigenvalues_all = [0.1020, 0.1020, 0.1020, 1.000]\n",
    "\n",
    "N = 4\n",
    "xr = np.real(eigenvectors_matrix[:,ii])\n",
    "xi = np.imag(eigenvectors_matrix[:,ii])\n",
    "norm_coef = 1\n",
    "\n",
    "mix.write_init_state(name_file_start, path_root, xr, xi, norm_coef)\n",
    "\n",
    "print(\"-- chosen eigenvector ---\")\n",
    "res_init_state = xr + 1j*xi\n",
    "mix.print_array(res_init_state)\n",
    "\n",
    "print(\"\\n-- resulting exp(-i*t*lambda)|lambda> ---\")\n",
    "t = 17.82\n",
    "# res_h = np.cos(t * eigenvalues_all[ii]) * res_init_state\n",
    "# res_h = 1j* np.sin(t * eigenvalues_all[ii]) * res_init_state\n",
    "res_h = np.exp(-1j * t * eigenvalues_all[ii]) * res_init_state\n",
    "mix.print_array(res_h, ff = [18, 3, \"e\"])"
   ]
  },
  {
   "cell_type": "code",
   "execution_count": null,
   "metadata": {},
   "outputs": [],
   "source": []
  },
  {
   "cell_type": "code",
   "execution_count": 32,
   "metadata": {},
   "outputs": [
    {
     "name": "stdout",
     "output_type": "stream",
     "text": [
      "\n",
      "-- eigenvalues --\n",
      "    2.367868e-01     6.068140e-01    -4.756473e-01     3.859025e-01 \n",
      "\n",
      "-- eigenvectors --\n",
      "--- 0 ---\n",
      "   -7.882054e-01      -6.154122e-01       0.000000e+00       0.000000e+00\n",
      "--- 1 ---\n",
      "    6.154122e-01      -7.882054e-01       0.000000e+00       0.000000e+00\n",
      "--- 2 ---\n",
      "    0.000000e+00       0.000000e+00       1.000000e+00       0.000000e+00\n",
      "--- 3 ---\n",
      "    0.000000e+00       0.000000e+00       0.000000e+00       1.000000e+00\n",
      "\n",
      "--- Oracle angles ---\n",
      "aa 1.433770e+00\n",
      "ab 2.407245e+00\n",
      "ba 2.407245e+00\n",
      "ac 7.343477e-01\n",
      "ad 4.132992e+00\n",
      "aw 2.349221e+00\n",
      "\n",
      "writing the initial state of AA\n",
      "\n",
      "--- normalized result\n",
      "4.999e-01-6.094e-01j -3.903e-01+4.758e-01j 0.000e+00+0.000e+00j 0.000e+00+0.000e+00j \n"
     ]
    }
   ],
   "source": [
    "# --- Time simulation of AA2 ---\n",
    "mix.reload_module(mix)\n",
    "\n",
    "def get_a(v):\n",
    "#     return 2 * np.arccos(np.sqrt(np.abs(v)))  # for general state-preparation oracle\n",
    "    return 2 * np.arccos(v)  # for real matrix\n",
    "\n",
    "name_file_start = \"AA\"\n",
    "path_root = \"./QSP/examples/test_inverse/dynamic_non_hermitian/\"\n",
    "\n",
    "ii1 = 0 # id of eigv, starting from 0\n",
    "ii2 = 0 # id of eigv, starting from 0\n",
    "\n",
    "a11 = 4.2; a12 = 2;\n",
    "a22 = 5.2;\n",
    "a33 = -5.3;\n",
    "a44 = 4.3;\n",
    "\n",
    "a21 = np.conjugate(a12)\n",
    "\n",
    "AA = np.array([\n",
    "    [a11, a12, 0, 0],\n",
    "    [a21, a22, 0, 0],\n",
    "    [0, 0, a33, 0],\n",
    "    [0, 0, 0, a44]\n",
    "])\n",
    "d = 2\n",
    "\n",
    "# --- create normalized matrix and find its eig. v ---\n",
    "coef_norm = get_norm(AA) * d\n",
    "AA_norm = AA / coef_norm\n",
    "eigenvalues_all, eigenvectors_matrix = np.linalg.eig(AA_norm)\n",
    "\n",
    "# print(\"-- matrix --\")\n",
    "# mix.print_matrix(AA)\n",
    "\n",
    "# # print(\"\\n-- normalized matrix --\")\n",
    "# mix.print_matrix(AA_norm)\n",
    "\n",
    "print(\"\\n-- eigenvalues --\")\n",
    "mix.print_array(eigenvalues_all, ff=[16,6,\"e\"])\n",
    "\n",
    "print(\"\\n-- eigenvectors --\")\n",
    "mix.print_matrix(eigenvectors_matrix, ff=[16,6,\"e\"])\n",
    "\n",
    "# --- calculate angles for the oracle ---\n",
    "print(\"\\n--- Oracle angles ---\")\n",
    "print(\"aa {:0.6e}\".format(get_a(AA_norm[0,0]*d)))\n",
    "print(\"ab {:0.6e}\".format(get_a(AA_norm[0,1]*d)))\n",
    "print(\"ba {:0.6e}\".format(get_a(AA_norm[1,0]*d)))\n",
    "print(\"ac {:0.6e}\".format(get_a(AA_norm[1,1]*d)))\n",
    "print(\"ad {:0.6e}\".format(get_a(AA_norm[2,2])))\n",
    "print(\"aw {:0.6e}\".format(get_a(AA_norm[3,3])))\n",
    "\n",
    "\n",
    "# --- write down the initial state to the .init file ---\n",
    "print()\n",
    "N = len(AA)\n",
    "xr = np.real(eigenvectors_matrix[:,ii1] + eigenvectors_matrix[:,ii2])\n",
    "xi = np.imag(eigenvectors_matrix[:,ii1] + eigenvectors_matrix[:,ii2])\n",
    "res_init_state = xr + 1j*xi\n",
    "norm_state = np.sqrt(np.sum(np.abs(res_init_state)**2))\n",
    "res_init_state = res_init_state / norm_state\n",
    "xr = xr / norm_state\n",
    "xi = xi / norm_state\n",
    "mix.write_init_state(name_file_start, path_root, xr, xi, 1)\n",
    "\n",
    "t = 17\n",
    "\n",
    "res_h = np.exp(-1j * t * eigenvalues_all[ii1]) * res_init_state\n",
    "norm_res = np.sqrt(np.sum(np.abs(res_h)**2))\n",
    "res_h = res_h/norm_res\n",
    "print(\"\\n--- normalized result\")\n",
    "mix.print_array(res_h, ff = [18, 3, \"e\"])"
   ]
  },
  {
   "cell_type": "code",
   "execution_count": null,
   "metadata": {},
   "outputs": [],
   "source": []
  },
  {
   "cell_type": "code",
   "execution_count": 29,
   "metadata": {},
   "outputs": [
    {
     "name": "stdout",
     "output_type": "stream",
     "text": [
      "Reading a file ./QSP/examples/test_inverse/dynamic_non_hermitian//AA_OUTPUT.hdf5...\n",
      "Name of the simulation is AA\n",
      "Simulation has been performed  02-16-2022 19:12:02\n",
      "--- Resulting relative amplitudes ---\n",
      "Registers: \n",
      "{'qb': 2, 'a': 1, 'c': 2, 'r': 2}\n",
      "\n",
      "                   -7.380e-01-1.215e-01j   |00>|0>|00>|00>\n",
      "                    6.622e-01-4.640e-02j   |00>|0>|00>|01>\n"
     ]
    }
   ],
   "source": [
    "# --- Read the quantum state ---\n",
    "mix.reload_module(mix)\n",
    "mix.reload_module(mse)\n",
    "\n",
    "oor = mse.MeasDyn__();\n",
    "oor.pname_ = name_file_start\n",
    "oor.path_  = path_root\n",
    "\n",
    "oor.open()\n",
    "oor.read_output_states()\n",
    "\n",
    "print(\"--- Resulting relative amplitudes ---\")\n",
    "oor.print_rel_state(-1)"
   ]
  },
  {
   "cell_type": "code",
   "execution_count": null,
   "metadata": {},
   "outputs": [],
   "source": []
  },
  {
   "cell_type": "code",
   "execution_count": 22,
   "metadata": {},
   "outputs": [
    {
     "name": "stdout",
     "output_type": "stream",
     "text": [
      "--- 0 ---\n",
      "        0.350           0.167           0.000           0.000\n",
      "--- 1 ---\n",
      "        0.250           0.433           0.000           0.000\n",
      "--- 2 ---\n",
      "        0.000           0.000          -0.441           0.000\n",
      "--- 3 ---\n",
      "        0.000           0.000           0.000           0.358\n",
      "\n",
      "-- singular values --\n",
      "    6.059993e-01     4.414215e-01     3.581344e-01     1.813169e-01 \n",
      "\n",
      "-- U matrix --\n",
      "--- 0 ---\n",
      "   -5.921370e-01       0.000000e+00       0.000000e+00      -8.058373e-01\n",
      "--- 1 ---\n",
      "   -8.058373e-01       0.000000e+00       0.000000e+00       5.921370e-01\n",
      "--- 2 ---\n",
      "    0.000000e+00       1.000000e+00       0.000000e+00       0.000000e+00\n",
      "--- 3 ---\n",
      "    0.000000e+00       0.000000e+00       1.000000e+00       0.000000e+00\n",
      "\n",
      "-- VH matrix --\n",
      "--- 0 ---\n",
      "   -6.740608e-01      -7.386758e-01      -0.000000e+00      -0.000000e+00\n",
      "--- 1 ---\n",
      "   -0.000000e+00      -0.000000e+00      -1.000000e+00      -0.000000e+00\n",
      "--- 2 ---\n",
      "    0.000000e+00       0.000000e+00       0.000000e+00       1.000000e+00\n",
      "--- 3 ---\n",
      "   -7.386758e-01       6.740608e-01       0.000000e+00       0.000000e+00\n",
      "\n",
      "--- Oracle angles ---\n",
      "aa 1.591886e+00\n",
      "ab 2.462311e+00\n",
      "ba 2.095036e+00\n",
      "ac 1.046557e+00\n",
      "ad 4.055957e+00\n",
      "aw 2.409055e+00\n",
      "writing the initial state of AA\n",
      "\n",
      "\n",
      "--- normalized result\n",
      "-2.079e-01+6.311e-01j -2.830e-01+6.916e-01j 0.000e+00+0.000e+00j 0.000e+00+0.000e+00j \n"
     ]
    }
   ],
   "source": []
  },
  {
   "cell_type": "code",
   "execution_count": null,
   "metadata": {},
   "outputs": [],
   "source": []
  },
  {
   "cell_type": "code",
   "execution_count": 20,
   "metadata": {},
   "outputs": [
    {
     "name": "stdout",
     "output_type": "stream",
     "text": [
      "Reading a file ./QSP/examples/test_inverse/dynamic_non_hermitian//AA_OUTPUT.hdf5...\n",
      "Name of the simulation is AA\n",
      "Simulation has been performed  02-22-2022 21:13:41\n",
      "--- Resulting relative amplitudes ---\n",
      "Registers: \n",
      "{'qb': 2, 'a': 1, 'c': 2, 'r': 2}\n",
      "\n",
      "                   -5.921e-01+6.045e-16j   |00>|0>|00>|00>\n",
      "                   -8.058e-01+4.670e-16j   |00>|0>|00>|01>\n"
     ]
    }
   ],
   "source": []
  },
  {
   "cell_type": "code",
   "execution_count": null,
   "metadata": {},
   "outputs": [],
   "source": []
  },
  {
   "cell_type": "code",
   "execution_count": null,
   "metadata": {},
   "outputs": [],
   "source": []
  },
  {
   "cell_type": "code",
   "execution_count": 27,
   "metadata": {},
   "outputs": [
    {
     "name": "stdout",
     "output_type": "stream",
     "text": [
      "\n",
      "-- normalized matrix --\n",
      "--- 0 ---\n",
      " 0.332+0.000j    0.024+0.079j    0.000+0.000j    0.000+0.000j\n",
      "--- 1 ---\n",
      " 0.158+0.237j    0.411+0.000j    0.000+0.000j    0.000+0.000j\n",
      "--- 2 ---\n",
      " 0.000+0.000j    0.000+0.000j    0.419+0.000j    0.000+0.000j\n",
      "--- 3 ---\n",
      " 0.000+0.000j    0.000+0.000j    0.000+0.000j    0.340+0.000j\n",
      "\n",
      "-- singular values --\n",
      "       5.344e-01        4.188e-01        3.398e-01        2.852e-01 \n",
      "\n",
      "-- U matrix --\n",
      "--- 0 ---\n",
      "-4.070e-01-9.290e-02j   0.000e+00+0.000e+00j   0.000e+00+0.000e+00j   8.890e-01-1.880e-01j\n",
      "--- 1 ---\n",
      "-5.905e-01-6.907e-01j   0.000e+00+0.000e+00j   0.000e+00+0.000e+00j   -3.793e-01-1.743e-01j\n",
      "--- 2 ---\n",
      "0.000e+00+0.000e+00j   1.000e+00+0.000e+00j   0.000e+00+0.000e+00j   0.000e+00+0.000e+00j\n",
      "--- 3 ---\n",
      "0.000e+00+0.000e+00j   0.000e+00+0.000e+00j   1.000e+00+0.000e+00j   0.000e+00+0.000e+00j\n",
      "\n",
      "-- VH matrix --\n",
      "--- 0 ---\n",
      "-7.337e-01+0.000e+00j   -4.858e-01+4.750e-01j   -0.000e+00+0.000e+00j   -0.000e+00+0.000e+00j\n",
      "--- 1 ---\n",
      "0.000e+00+0.000e+00j   0.000e+00+0.000e+00j   1.000e+00+0.000e+00j   0.000e+00+0.000e+00j\n",
      "--- 2 ---\n",
      "0.000e+00+0.000e+00j   0.000e+00+0.000e+00j   0.000e+00+0.000e+00j   1.000e+00+0.000e+00j\n",
      "--- 3 ---\n",
      "6.794e-01+0.000e+00j   -5.246e-01+5.129e-01j   0.000e+00+0.000e+00j   0.000e+00+0.000e+00j\n",
      "\n",
      "--- Oracle angles ---\n",
      "aa 1.689959e+00+0.000000e+00j\n",
      "ab1        -2.558679e+00\n",
      "ab2         2.810090e+00\n",
      "ba1        -1.965587e+00\n",
      "ba2         1.929061e+00\n",
      "ac 1.212532e+00+0.000000e+00j\n",
      "ad 2.277362e+00+0.000000e+00j\n",
      "aw 2.448237e+00+0.000000e+00j\n",
      "writing the initial state of AA\n",
      "\n",
      "\n",
      "--- normalized result\n",
      "7.337e-01-0.000e+00j 4.858e-01-4.750e-01j 0.000e+00+0.000e+00j 0.000e+00+0.000e+00j \n"
     ]
    }
   ],
   "source": [
    "# --- Time evolution of AA7 (non-hermitian complex) ---\n",
    "\n",
    "mix.reload_module(mix)\n",
    "\n",
    "def get_a(v):\n",
    "    return 2 * np.arccos(v)  # for real elements\n",
    "\n",
    "def get_a_img(v):\n",
    "    return 2 * np.arccos(np.abs(v))  # for real imaginary elements\n",
    "\n",
    "name_file_start = \"AA\"\n",
    "path_root = \"./QSP/examples/test_inverse/dynamic_non_hermitian_complex/\"\n",
    "\n",
    "a11 = 4.2; \n",
    "a12 = 0.3 + 1j*1.0;\n",
    "a21 = 2 + 1j*3.0;\n",
    "a22 = 5.2;\n",
    "a33 = 5.3;\n",
    "a44 = 4.3;\n",
    "\n",
    "\n",
    "# a11 = 4.2; \n",
    "# a12 = 0.3;\n",
    "# a21 = 2;\n",
    "# a22 = 5.2;\n",
    "# a33 = 5.3;\n",
    "# a44 = 4.3;\n",
    "\n",
    "\n",
    "AA = np.array([\n",
    "    [a11, a12, 0, 0],\n",
    "    [a21, a22, 0, 0],\n",
    "    [0, 0, a33, 0],\n",
    "    [0, 0, 0, a44]\n",
    "])\n",
    "d = 2\n",
    "\n",
    "# --- create normalized matrix and find its eig. v ---\n",
    "coef_norm = get_norm(AA) * d\n",
    "AA_norm = AA / coef_norm\n",
    "U, S, VH = np.linalg.svd(AA_norm)  # AA_norm = U S VH\n",
    "\n",
    "# print(\"-- U matrix --\")\n",
    "# mix.print_matrix(AA)\n",
    "\n",
    "print(\"\\n-- normalized matrix --\")\n",
    "mix.print_matrix(AA_norm)\n",
    "\n",
    "print(\"\\n-- singular values --\")\n",
    "mix.print_array(S, ff=[16,3,\"e\"])\n",
    "\n",
    "print(\"\\n-- U matrix --\")\n",
    "mix.print_matrix(U, ff=[16,3,\"e\"])\n",
    "\n",
    "print(\"\\n-- VH matrix --\")\n",
    "mix.print_matrix(VH, ff=[16,3,\"e\"])\n",
    "\n",
    "# --- calculate angles for the oracle ---\n",
    "print(\"\\n--- Oracle angles ---\")\n",
    "print(\"aa {:20.6e}\".format(get_a(AA_norm[0,0]*d)))\n",
    "\n",
    "ww = cmath.polar(AA_norm[0,1]*d)\n",
    "ab1 = -2.*ww[1]\n",
    "ab2 = 2.*np.arccos(ww[0])\n",
    "print(\"ab1 {:20.6e}\".format(ab1)) # phase of the complex number (minus because of the Rz format)\n",
    "print(\"ab2 {:20.6e}\".format(ab2))  # magnitude of the complex number\n",
    "\n",
    "ww = cmath.polar(AA_norm[1,0]*d)\n",
    "ba1 = -2.*ww[1]\n",
    "ba2 = 2.*np.arccos(ww[0])\n",
    "print(\"ba1 {:20.6e}\".format(ba1)) # phase of the complex number\n",
    "print(\"ba2 {:20.6e}\".format(ba2))  # magnitude of the complex number\n",
    "\n",
    "print(\"ac {:20.6e}\".format(get_a(AA_norm[1,1]*d)))\n",
    "print(\"ad {:20.6e}\".format(get_a(AA_norm[2,2])))\n",
    "print(\"aw {:20.6e}\".format(get_a(AA_norm[3,3])))\n",
    "\n",
    "\n",
    "# --- Calculate exp ---\n",
    "ii1 = 0\n",
    "\n",
    "N = len(AA)\n",
    "# xr = np.real(U[:,ii1])\n",
    "# xi = np.imag(U[:,ii1])\n",
    "xr = np.real(np.transpose(VH)[:,ii1])\n",
    "xi = np.imag(np.transpose(VH)[:,ii1])\n",
    "res_init_state = xr + 1j*xi\n",
    "norm_state = np.sqrt(np.sum(np.abs(res_init_state)**2))\n",
    "res_init_state = res_init_state / norm_state\n",
    "xr = xr / norm_state\n",
    "xi = xi / norm_state\n",
    "mix.write_init_state(name_file_start, path_root, xr, xi, 1)\n",
    "\n",
    "\n",
    "# --- Calculate the resulting state ---\n",
    "t = 17\n",
    "\n",
    "res_VH = np.conj(np.transpose(VH)[:,ii1]) \n",
    "# res_h = np.cos(t * S[ii1]) * res_init_state - 1j*np.sin(t * S[ii1]) * res_VH\n",
    "res_h = np.cos(t * S[ii1]) * res_init_state\n",
    "\n",
    "norm_res = np.sqrt(np.sum(np.abs(res_h)**2))\n",
    "res_h = res_h/norm_res\n",
    "print(\"\\n\\n--- normalized result\")\n",
    "mix.print_array(res_h, ff = [18, 3, \"e\"])"
   ]
  },
  {
   "cell_type": "code",
   "execution_count": null,
   "metadata": {},
   "outputs": [],
   "source": []
  },
  {
   "cell_type": "code",
   "execution_count": 25,
   "metadata": {},
   "outputs": [
    {
     "data": {
      "text/plain": [
       "4.381054897739505"
      ]
     },
     "execution_count": 25,
     "metadata": {},
     "output_type": "execute_result"
    }
   ],
   "source": [
    "4.070e-01/9.290e-02"
   ]
  },
  {
   "cell_type": "code",
   "execution_count": 26,
   "metadata": {},
   "outputs": [
    {
     "data": {
      "text/plain": [
       "4.000683293474547"
      ]
     },
     "execution_count": 26,
     "metadata": {},
     "output_type": "execute_result"
    }
   ],
   "source": [
    "2.342e-01/5.854e-02"
   ]
  },
  {
   "cell_type": "code",
   "execution_count": null,
   "metadata": {},
   "outputs": [],
   "source": []
  },
  {
   "cell_type": "code",
   "execution_count": null,
   "metadata": {},
   "outputs": [],
   "source": []
  },
  {
   "cell_type": "code",
   "execution_count": 11,
   "metadata": {},
   "outputs": [
    {
     "name": "stdout",
     "output_type": "stream",
     "text": [
      "-5.521e-02-4.458e-01j\n"
     ]
    }
   ],
   "source": [
    "a1 = -2.327e-02  -1.879e-01j\n",
    "a2 = -3.010e-01  -2.263e-01j\n",
    "\n",
    "a1 = \n",
    "\n",
    "abs_a = np.sqrt(np.sum(np.abs([a1, a2])**2))\n",
    "print(\"{:20.3e}\".format(a1/abs_a))"
   ]
  },
  {
   "cell_type": "code",
   "execution_count": null,
   "metadata": {},
   "outputs": [],
   "source": []
  },
  {
   "cell_type": "code",
   "execution_count": null,
   "metadata": {},
   "outputs": [],
   "source": []
  },
  {
   "cell_type": "code",
   "execution_count": null,
   "metadata": {},
   "outputs": [],
   "source": []
  },
  {
   "cell_type": "code",
   "execution_count": 28,
   "metadata": {},
   "outputs": [
    {
     "name": "stdout",
     "output_type": "stream",
     "text": [
      "Reading a file ./QSP/examples/test_inverse/dynamic_non_hermitian_complex//AA_OUTPUT.hdf5...\n",
      "Name of the simulation is AA\n",
      "Simulation has been performed  02-22-2022 21:21:22\n",
      "\n",
      "--- Resulting relative amplitudes ---\n",
      "Registers: \n",
      "{'qb': 2, 'a': 1, 'c': 2, 'r': 2}\n",
      "\n",
      "                   -3.602e-01+4.304e-02j   |00>|0>|00>|00>\n",
      "                   -6.980e-01+6.174e-01j   |00>|0>|00>|01>\n"
     ]
    }
   ],
   "source": [
    "# --- Read the quantum state ---\n",
    "mix.reload_module(mix)\n",
    "mix.reload_module(mse)\n",
    "\n",
    "oor = mse.MeasDyn__();\n",
    "oor.pname_ = name_file_start\n",
    "oor.path_  = path_root\n",
    "\n",
    "oor.open()\n",
    "oor.read_output_states()\n",
    "\n",
    "print(\"\\n--- Resulting relative amplitudes ---\")\n",
    "oor.print_rel_state(-1)"
   ]
  },
  {
   "cell_type": "code",
   "execution_count": null,
   "metadata": {},
   "outputs": [],
   "source": []
  },
  {
   "cell_type": "code",
   "execution_count": null,
   "metadata": {},
   "outputs": [],
   "source": []
  },
  {
   "cell_type": "code",
   "execution_count": null,
   "metadata": {},
   "outputs": [],
   "source": []
  },
  {
   "cell_type": "code",
   "execution_count": null,
   "metadata": {},
   "outputs": [],
   "source": []
  },
  {
   "cell_type": "code",
   "execution_count": 20,
   "metadata": {},
   "outputs": [
    {
     "name": "stdout",
     "output_type": "stream",
     "text": [
      "writing an initial state of AA0\n",
      "-- angles for oracle --\n",
      "    2.937237e+00     2.937237e+00     2.937237e+00     0.000000e+00 \n",
      "-- init. state ---\n",
      " 0.000+0.000j  0.000+0.000j  0.707+0.000j  0.707+0.000j \n",
      "-- lambda_1 / lambda_2 ---\n",
      "1.020e-01\n",
      "-- lambda_2 / lambda_1 ---\n",
      "9.804e+00\n"
     ]
    }
   ],
   "source": [
    "# --- To inverse the matrix AA0 ---\n",
    "mix.reload_module(mix)\n",
    "\n",
    "name_file_start = \"AA0\"\n",
    "path_root = \"./QSP/examples/test_inverse/inverse_AA0/\"\n",
    "\n",
    "ii1 = 2 # id of eigv, starting from 0\n",
    "ii2 = 3 # id of eigv, starting from 0\n",
    "\n",
    "eigenvectors_matrix = np.identity(4);\n",
    "# eigenvalues_all = [0.1020, 0.1020, 0.1020, 1.000]\n",
    "eigenvalues_all = [0.5020, 0.5020, 0.5020, 1.000]\n",
    "# eigenvalues_all = [0.3020, 0.3020, 0.3020, 1.000]\n",
    "\n",
    "angles_oracle = 2*np.arccos(eigenvalues_all)\n",
    "\n",
    "N = 4\n",
    "xr = np.real(eigenvectors_matrix[:,ii1] + eigenvectors_matrix[:,ii2])\n",
    "xi = np.imag(eigenvectors_matrix[:,ii1] + eigenvectors_matrix[:,ii2])\n",
    "res_init_state = xr + 1j*xi\n",
    "norm_state = np.sqrt(np.sum(np.abs(res_init_state)**2))\n",
    "res_init_state = res_init_state / norm_state\n",
    "xr = xr / norm_state\n",
    "xi = xi / norm_state\n",
    "mix.write_init_state(name_file_start, path_root, xr, xi, 1)\n",
    "\n",
    "print(\"-- angles for oracle --\")\n",
    "mix.print_array(angles_oracle, ff = [16, 6, \"e\"])\n",
    "\n",
    "print(\"-- init. state ---\")\n",
    "mix.print_array(res_init_state)\n",
    "\n",
    "print(\"-- lambda_1 / lambda_2 ---\")\n",
    "print(\"{:0.3e}\".format(eigenvalues_all[ii1]/eigenvalues_all[ii2]))\n",
    "\n",
    "print(\"-- lambda_2 / lambda_1 ---\")\n",
    "print(\"{:0.3e}\".format(eigenvalues_all[ii2]/eigenvalues_all[ii1]))"
   ]
  },
  {
   "cell_type": "code",
   "execution_count": null,
   "metadata": {},
   "outputs": [],
   "source": []
  },
  {
   "cell_type": "code",
   "execution_count": 14,
   "metadata": {},
   "outputs": [
    {
     "name": "stdout",
     "output_type": "stream",
     "text": [
      "writing an initial state of AA1\n",
      "-- init. state --- 0.615+0.000j  0.788+0.000j  0.000+0.000j  0.000+0.000j \n",
      "-- lambda_1 / lambda_2 ---\n",
      "1.000e+00\n",
      "-- lambda_2 / lambda_1 ---\n",
      "1.000e+00\n"
     ]
    }
   ],
   "source": [
    "# --- To inverse the matrix AA1 ---\n",
    "mix.reload_module(mix)\n",
    "\n",
    "name_file_start = \"AA1\"\n",
    "path_root = \"./QSP/examples/test_inverse/inverse-AA1/\"\n",
    "\n",
    "ii1 = 3 # id of eigv, starting from 0\n",
    "ii2 = 3 # id of eigv, starting from 0\n",
    "\n",
    "# for ad = 5.3\n",
    "eigenvectors_matrix = np.array([\n",
    "    [-0.7882,         0,         0,    0.6154],\n",
    "    [ 0.6154,         0,         0,    0.7882],\n",
    "    [      0,         0,    1.0000,         0],\n",
    "    [      0,    1.0000,         0,         0]\n",
    "])\n",
    "eigenvalues_all = [0.2368, 0.3859, 0.4756, 0.6068]\n",
    "\n",
    "N = 4\n",
    "xr = np.real(eigenvectors_matrix[:,ii1] + eigenvectors_matrix[:,ii2])\n",
    "xi = np.imag(eigenvectors_matrix[:,ii1] + eigenvectors_matrix[:,ii2])\n",
    "res_init_state = xr + 1j*xi\n",
    "norm_state = np.sqrt(np.sum(np.abs(res_init_state)**2))\n",
    "res_init_state = res_init_state / norm_state\n",
    "xr = xr / norm_state\n",
    "xi = xi / norm_state\n",
    "mix.write_init_state(name_file_start, path_root, xr, xi, 1)\n",
    "\n",
    "print(\"-- init. state ---\", end = \"\")\n",
    "mix.print_array(res_init_state)\n",
    "\n",
    "print(\"-- lambda_1 / lambda_2 ---\")\n",
    "print(\"{:0.3e}\".format(eigenvalues_all[ii1]/eigenvalues_all[ii2]))\n",
    "\n",
    "print(\"-- lambda_2 / lambda_1 ---\")\n",
    "print(\"{:0.3e}\".format(eigenvalues_all[ii2]/eigenvalues_all[ii1]))"
   ]
  },
  {
   "cell_type": "code",
   "execution_count": null,
   "metadata": {},
   "outputs": [],
   "source": []
  },
  {
   "cell_type": "code",
   "execution_count": 29,
   "metadata": {},
   "outputs": [
    {
     "name": "stdout",
     "output_type": "stream",
     "text": [
      "-- matrix --\n",
      "--- 0 ---\n",
      "        4.200           2.000           0.000           0.000\n",
      "--- 1 ---\n",
      "        2.000           5.200           0.000           0.000\n",
      "--- 2 ---\n",
      "        0.000           0.000          -5.300           0.000\n",
      "--- 3 ---\n",
      "        0.000           0.000           0.000           4.300\n",
      "\n",
      "-- normalized matrix --\n",
      "--- 0 ---\n",
      "        0.377           0.179           0.000           0.000\n",
      "--- 1 ---\n",
      "        0.179           0.467           0.000           0.000\n",
      "--- 2 ---\n",
      "        0.000           0.000          -0.476           0.000\n",
      "--- 3 ---\n",
      "        0.000           0.000           0.000           0.386\n",
      "\n",
      "-- eigenvalues --\n",
      "    2.367868e-01     6.068140e-01    -4.756473e-01     3.859025e-01 \n",
      "\n",
      "-- eigenvectors --\n",
      "--- 0 ---\n",
      "   -7.882054e-01      -6.154122e-01       0.000000e+00       0.000000e+00\n",
      "--- 1 ---\n",
      "    6.154122e-01      -7.882054e-01       0.000000e+00       0.000000e+00\n",
      "--- 2 ---\n",
      "    0.000000e+00       0.000000e+00       1.000000e+00       0.000000e+00\n",
      "--- 3 ---\n",
      "    0.000000e+00       0.000000e+00       0.000000e+00       1.000000e+00\n",
      "\n",
      "--- Oracle angles ---\n",
      "aa: 1.433770e+00\n",
      "ab: 2.407245e+00\n",
      "ba: 2.407245e+00\n",
      "ac: 7.343477e-01\n",
      "ad: 4.132992e+00\n",
      "aw: 2.349221e+00\n",
      "\n",
      "writing an initial state of AA2\n",
      "\n",
      "-- init. state ---\n",
      "-0.557+0.000j  0.435+0.000j  0.707+0.000j  0.000+0.000j \n",
      "\n",
      "-- lambda_1 / lambda_2 ---\n",
      "-4.978e-01\n",
      "\n",
      "-- lambda_2 / lambda_1 ---\n",
      "-2.009e+00\n"
     ]
    }
   ],
   "source": [
    "# --- To inverse the matrix AA2 ---\n",
    "mix.reload_module(mix)\n",
    "\n",
    "def get_a(v):\n",
    "#     return 2 * np.arccos(np.sqrt(np.abs(v)))  # for general state-preparation oracle\n",
    "    return 2 * np.arccos(v)  # for real matrix\n",
    "\n",
    "name_file_start = \"AA2\"\n",
    "path_root = \"./QSP/examples/test_inverse/inverse_AA2/\"\n",
    "\n",
    "ii1 = 0 # id of eigv, starting from 0\n",
    "ii2 = 2 # id of eigv, starting from 0\n",
    "\n",
    "a11 = 4.2; a12 = 2;\n",
    "a22 = 5.2;\n",
    "a33 = -5.3;\n",
    "a44 = 4.3;\n",
    "\n",
    "a21 = np.conjugate(a12)\n",
    "\n",
    "AA = np.array([\n",
    "    [a11, a12, 0, 0],\n",
    "    [a21, a22, 0, 0],\n",
    "    [0, 0, a33, 0],\n",
    "    [0, 0, 0, a44]\n",
    "])\n",
    "d = 2\n",
    "\n",
    "# --- create normalized matrix and find its eig. v ---\n",
    "coef_norm = get_norm(AA) * d\n",
    "AA_norm = AA / coef_norm\n",
    "eigenvalues_all, eigenvectors_matrix = np.linalg.eig(AA_norm)\n",
    "\n",
    "print(\"-- matrix --\")\n",
    "mix.print_matrix(AA)\n",
    "\n",
    "print(\"\\n-- normalized matrix --\")\n",
    "mix.print_matrix(AA_norm)\n",
    "\n",
    "print(\"\\n-- eigenvalues --\")\n",
    "mix.print_array(eigenvalues_all, ff=[16,6,\"e\"])\n",
    "\n",
    "print(\"\\n-- eigenvectors --\")\n",
    "mix.print_matrix(eigenvectors_matrix, ff=[16,6,\"e\"])\n",
    "\n",
    "# --- calculate angles for the oracle ---\n",
    "print(\"\\n--- Oracle angles ---\")\n",
    "print(\"aa: {:0.6e}\".format(get_a(AA_norm[0,0]*d)))\n",
    "print(\"ab: {:0.6e}\".format(get_a(AA_norm[0,1]*d)))\n",
    "print(\"ba: {:0.6e}\".format(get_a(AA_norm[1,0]*d)))\n",
    "print(\"ac: {:0.6e}\".format(get_a(AA_norm[1,1]*d)))\n",
    "print(\"ad: {:0.6e}\".format(get_a(AA_norm[2,2])))\n",
    "print(\"aw: {:0.6e}\".format(get_a(AA_norm[3,3])))\n",
    "\n",
    "\n",
    "# # --- write down the initial state to the .init file ---\n",
    "# print()\n",
    "# N = len(AA)\n",
    "# xr = np.real(eigenvectors_matrix[:,ii1] + eigenvectors_matrix[:,ii2])\n",
    "# xi = np.imag(eigenvectors_matrix[:,ii1] + eigenvectors_matrix[:,ii2])\n",
    "# res_init_state = xr + 1j*xi\n",
    "# norm_state = np.sqrt(np.sum(np.abs(res_init_state)**2))\n",
    "# res_init_state = res_init_state / norm_state\n",
    "# xr = xr / norm_state\n",
    "# xi = xi / norm_state\n",
    "# mix.write_init_state(name_file_start, path_root, xr, xi, 1)\n",
    "\n",
    "# print(\"\\n-- init. state ---\")\n",
    "# mix.print_array(res_init_state)\n",
    "\n",
    "# print(\"\\n-- lambda_1 / lambda_2 ---\")\n",
    "# print(\"{:0.3e}\".format(eigenvalues_all[ii1]/eigenvalues_all[ii2]))\n",
    "\n",
    "# print(\"\\n-- lambda_2 / lambda_1 ---\")\n",
    "# print(\"{:0.3e}\".format(eigenvalues_all[ii2]/eigenvalues_all[ii1]))\n",
    "\n",
    "# --- Consider a system of linear equations ---\n",
    "# --- write down the initial state to the .init file ---\n",
    "b_r = np.array([1.0, 0.0, 0.0, 0.0])\n",
    "b_i = np.array([0.0, 0.0, 0.0, 0.0])\n",
    "b = b_r + 1j * b_i\n",
    "coef_norm = np.sqrt(np.sum(np.abs(b)**2))\n",
    "\n",
    "b = b/coef_norm\n",
    "b_r = b_r/coef_norm\n",
    "b_i = b_i/coef_norm\n",
    "A_norm_inv = np.linalg.inv(AA_norm)\n",
    "x = np.dot(A_norm_inv, b)\n",
    "\n",
    "mix.write_init_state(name_file_start, path_root, b_r, b_i, 1)\n",
    "\n",
    "print(\"\\n-- init. state ---\")\n",
    "mix.print_array(b)\n",
    "\n",
    "print(\"\\n-- resulting state ---\")\n",
    "mix.print_array(x)"
   ]
  },
  {
   "cell_type": "code",
   "execution_count": null,
   "metadata": {},
   "outputs": [],
   "source": []
  },
  {
   "cell_type": "code",
   "execution_count": 32,
   "metadata": {},
   "outputs": [
    {
     "name": "stdout",
     "output_type": "stream",
     "text": [
      "theory: state 0 / state 1: \t -1.2804597701149427\n",
      "sim: state 0 / state 1: \t -1.2808010448410971\n"
     ]
    }
   ],
   "source": [
    "print( \"theory: state 0 / state 1: \\t\", -0.557/0.435  )\n",
    "print( \"sim: state 0 / state 1: \\t\", -2.942e-02 / 2.297e-02 )"
   ]
  },
  {
   "cell_type": "code",
   "execution_count": 30,
   "metadata": {},
   "outputs": [
    {
     "name": "stdout",
     "output_type": "stream",
     "text": [
      "theory: state 0 / state 2: \t 1.5825714577790666\n",
      "sim: state 0 / state 2: \t 1.5834230355220669\n"
     ]
    }
   ],
   "source": [
    "print( \"theory: state 0 / state 2: \\t\", (-0.557/2.367868e-01)/(0.707/-4.756473e-01)  )\n",
    "print( \"sim: state 0 / state 2: \\t\", -2.942e-02 / -1.858e-02 )"
   ]
  },
  {
   "cell_type": "code",
   "execution_count": 31,
   "metadata": {},
   "outputs": [
    {
     "name": "stdout",
     "output_type": "stream",
     "text": [
      "theory: state 1 / state 2: \t -1.2359400074217124\n",
      "sim: state 1 / state 2: \t -1.236275565123789\n"
     ]
    }
   ],
   "source": [
    "print( \"theory: state 1 / state 2: \\t\", (0.435/2.367868e-01)/(0.707/-4.756473e-01)  )\n",
    "print( \"sim: state 1 / state 2: \\t\", 2.297e-02 / -1.858e-02 )"
   ]
  },
  {
   "cell_type": "code",
   "execution_count": null,
   "metadata": {},
   "outputs": [],
   "source": []
  },
  {
   "cell_type": "code",
   "execution_count": null,
   "metadata": {},
   "outputs": [],
   "source": []
  },
  {
   "cell_type": "code",
   "execution_count": 29,
   "metadata": {
    "scrolled": false
   },
   "outputs": [
    {
     "name": "stdout",
     "output_type": "stream",
     "text": [
      "-- matrix --\n",
      "--- 0 ---\n",
      " 4.200+0.000j    0.000+1.000j    0.000+0.000j    0.000+0.000j\n",
      "--- 1 ---\n",
      " 0.000-1.000j    5.200+0.000j    0.000+0.000j    0.000+0.000j\n",
      "--- 2 ---\n",
      " 0.000+0.000j    0.000+0.000j    5.300+0.000j    0.000+0.000j\n",
      "--- 3 ---\n",
      " 0.000+0.000j    0.000+0.000j    0.000+0.000j    4.300+0.000j\n",
      "\n",
      "-- normalized matrix --\n",
      "--- 0 ---\n",
      " 0.396+0.000j    0.000+0.094j    0.000+0.000j    0.000+0.000j\n",
      "--- 1 ---\n",
      " 0.000-0.094j    0.491+0.000j    0.000+0.000j    0.000+0.000j\n",
      "--- 2 ---\n",
      " 0.000+0.000j    0.000+0.000j    0.500+0.000j    0.000+0.000j\n",
      "--- 3 ---\n",
      " 0.000+0.000j    0.000+0.000j    0.000+0.000j    0.406+0.000j\n",
      "\n",
      "-- eigenvalues --\n",
      "3.379e-01+0.000e+00j 5.489e-01+0.000e+00j 5.000e-01+0.000e+00j 4.057e-01+0.000e+00j \n",
      "\n",
      "-- eigenvectors --\n",
      "--- 0 ---\n",
      "8.507e-01+0.000e+00j   0.000e+00+5.257e-01j   0.000e+00+0.000e+00j   0.000e+00+0.000e+00j\n",
      "--- 1 ---\n",
      "-0.000e+00+5.257e-01j   8.507e-01+0.000e+00j   0.000e+00+0.000e+00j   0.000e+00+0.000e+00j\n",
      "--- 2 ---\n",
      "-0.000e+00-0.000e+00j   0.000e+00-0.000e+00j   1.000e+00+0.000e+00j   0.000e+00+0.000e+00j\n",
      "--- 3 ---\n",
      "-0.000e+00-0.000e+00j   0.000e+00-0.000e+00j   0.000e+00+0.000e+00j   1.000e+00+0.000e+00j\n",
      "\n",
      "--- Oracle angles ---\n",
      "aa: 1.311953e+00+0.000000e+00j\n",
      "ab:         2.761959e+00\n",
      "ba:         2.761959e+00\n",
      "ac: 3.891278e-01+0.000000e+00j\n",
      "ad: 2.094395e+00+0.000000e+00j\n",
      "aw: 2.306190e+00+0.000000e+00j\n",
      "writing an initial state of AA3\n",
      "\n",
      "-- init. state ---\n",
      " 0.707+0.000j  0.000-0.707j  0.000+0.000j  0.000+0.000j \n",
      "\n",
      "-- resulting state ---\n",
      " 1.511+0.000j  0.000-1.151j  0.000+0.000j  0.000+0.000j \n"
     ]
    }
   ],
   "source": [
    "# --- To inverse the matrix AA3 ---\n",
    "mix.reload_module(mix)\n",
    "\n",
    "def get_a(v):\n",
    "    return 2 * np.arccos(v)  # for real elements\n",
    "\n",
    "def get_a_img(v):\n",
    "    return 2 * np.arccos(np.abs(v))  # for real imaginary elements\n",
    "\n",
    "name_file_start = \"AA3\"\n",
    "path_root = \"./QSP/examples/test_inverse/inverse_AA3/\"\n",
    "\n",
    "ii1 = 0 # id of eigv, starting from 0\n",
    "ii2 = 1 # id of eigv, starting from 0\n",
    "\n",
    "a11 = 4.2; \n",
    "a12 = 1j*1.0;\n",
    "a22 = 5.2;\n",
    "a33 = 5.3;\n",
    "a44 = 4.3;\n",
    "\n",
    "# a11 = 0; \n",
    "# a12 = 1j*1.0;\n",
    "# a22 = 0;\n",
    "# a33 = 1;\n",
    "# a44 = 1;\n",
    "\n",
    "a21 = np.conjugate(a12)\n",
    "\n",
    "AA = np.array([\n",
    "    [a11, a12, 0, 0],\n",
    "    [a21, a22, 0, 0],\n",
    "    [0, 0, a33, 0],\n",
    "    [0, 0, 0, a44]\n",
    "])\n",
    "d = 2\n",
    "\n",
    "# --- create normalized matrix and find its eig. v ---\n",
    "coef_norm = get_norm(AA) * d\n",
    "AA_norm = AA / coef_norm\n",
    "eigenvalues_all, eigenvectors_matrix = np.linalg.eig(AA_norm)\n",
    "\n",
    "print(\"-- matrix --\")\n",
    "mix.print_matrix(AA)\n",
    "\n",
    "print(\"\\n-- normalized matrix --\")\n",
    "mix.print_matrix(AA_norm)\n",
    "\n",
    "print(\"\\n-- eigenvalues --\")\n",
    "mix.print_array(eigenvalues_all, ff=[16,3,\"e\"])\n",
    "\n",
    "print(\"\\n-- eigenvectors --\")\n",
    "mix.print_matrix(eigenvectors_matrix, ff=[16,3,\"e\"])\n",
    "\n",
    "# --- calculate angles for the oracle ---\n",
    "print(\"\\n--- Oracle angles ---\")\n",
    "print(\"aa: {:20.6e}\".format(get_a(AA_norm[0,0]*d)))\n",
    "print(\"ab: {:20.6e}\".format(get_a_img(AA_norm[0,1]*d)))\n",
    "print(\"ba: {:20.6e}\".format(get_a_img(AA_norm[1,0]*d)))\n",
    "print(\"ac: {:20.6e}\".format(get_a(AA_norm[1,1]*d)))\n",
    "print(\"ad: {:20.6e}\".format(get_a(AA_norm[2,2])))\n",
    "print(\"aw: {:20.6e}\".format(get_a(AA_norm[3,3])))\n",
    "\n",
    "\n",
    "# # --- write down the initial state to the .init file ---\n",
    "# print()\n",
    "# N = len(AA)\n",
    "# xr = np.real(eigenvectors_matrix[:,ii1] + eigenvectors_matrix[:,ii2])\n",
    "# xi = np.imag(eigenvectors_matrix[:,ii1] + eigenvectors_matrix[:,ii2])\n",
    "# res_init_state = xr + 1j*xi\n",
    "# norm_state = np.sqrt(np.sum(np.abs(res_init_state)**2))\n",
    "# res_init_state = res_init_state / norm_state\n",
    "# xr = xr / norm_state\n",
    "# xi = xi / norm_state\n",
    "# mix.write_init_state(name_file_start, path_root, xr, xi, 1)\n",
    "\n",
    "# print(\"\\n-- init. state ---\")\n",
    "# mix.print_array(res_init_state)\n",
    "\n",
    "# print(\"\\n-- lambda_1 / lambda_2 ---\")\n",
    "# print(\"{:20.3e}\".format(eigenvalues_all[ii1]/eigenvalues_all[ii2]))\n",
    "\n",
    "# print(\"\\n-- lambda_2 / lambda_1 ---\")\n",
    "# print(\"{:20.3e}\".format(eigenvalues_all[ii2]/eigenvalues_all[ii1]))\n",
    "\n",
    "# --- Consider a system of linear equations ---\n",
    "# --- write down the initial state to the .init file ---\n",
    "b_r = np.array([1.0, 0.0, 0.0, 0.0])\n",
    "b_i = np.array([0.0, -1.0, 0.0, 0.0])\n",
    "b = b_r + 1j * b_i\n",
    "coef_norm = np.sqrt(np.sum(np.abs(b)**2))\n",
    "\n",
    "b = b/coef_norm\n",
    "b_r = b_r/coef_norm\n",
    "b_i = b_i/coef_norm\n",
    "A_norm_inv = np.linalg.inv(AA_norm)\n",
    "x = np.dot(A_norm_inv, b)\n",
    "\n",
    "mix.write_init_state(name_file_start, path_root, b_r, b_i, 1)\n",
    "\n",
    "print(\"\\n-- init. state ---\")\n",
    "mix.print_array(b)\n",
    "\n",
    "print(\"\\n-- resulting state ---\")\n",
    "mix.print_array(x)"
   ]
  },
  {
   "cell_type": "code",
   "execution_count": 26,
   "metadata": {},
   "outputs": [
    {
     "data": {
      "text/plain": [
       "(-0+1j)"
      ]
     },
     "execution_count": 26,
     "metadata": {},
     "output_type": "execute_result"
    }
   ],
   "source": [
    "x[0]/x[1]"
   ]
  },
  {
   "cell_type": "code",
   "execution_count": 17,
   "metadata": {},
   "outputs": [
    {
     "data": {
      "text/plain": [
       "(-0+1j)"
      ]
     },
     "execution_count": 17,
     "metadata": {},
     "output_type": "execute_result"
    }
   ],
   "source": [
    "1.768e-02/-1.768e-02j"
   ]
  },
  {
   "cell_type": "code",
   "execution_count": 20,
   "metadata": {},
   "outputs": [
    {
     "data": {
      "text/plain": [
       "(-0-1j)"
      ]
     },
     "execution_count": 20,
     "metadata": {},
     "output_type": "execute_result"
    }
   ],
   "source": [
    "1.768e-02j/-1.768e-02"
   ]
  },
  {
   "cell_type": "code",
   "execution_count": 28,
   "metadata": {},
   "outputs": [
    {
     "data": {
      "text/plain": [
       "(-0-1j)"
      ]
     },
     "execution_count": 28,
     "metadata": {},
     "output_type": "execute_result"
    }
   ],
   "source": [
    "-1.768e-02/(-1.768e-02j)"
   ]
  },
  {
   "cell_type": "code",
   "execution_count": 7,
   "metadata": {},
   "outputs": [
    {
     "data": {
      "text/plain": [
       "(-0+1.3120222376650452j)"
      ]
     },
     "execution_count": 7,
     "metadata": {},
     "output_type": "execute_result"
    }
   ],
   "source": [
    "1.888e-02/-1.439e-02j"
   ]
  },
  {
   "cell_type": "code",
   "execution_count": 10,
   "metadata": {},
   "outputs": [
    {
     "data": {
      "text/plain": [
       "(-0+1.3120222376650452j)"
      ]
     },
     "execution_count": 10,
     "metadata": {},
     "output_type": "execute_result"
    }
   ],
   "source": [
    " -1.888e-02j/-1.439e-02"
   ]
  },
  {
   "cell_type": "code",
   "execution_count": null,
   "metadata": {},
   "outputs": [],
   "source": []
  },
  {
   "cell_type": "code",
   "execution_count": null,
   "metadata": {},
   "outputs": [],
   "source": []
  },
  {
   "cell_type": "code",
   "execution_count": 56,
   "metadata": {},
   "outputs": [
    {
     "data": {
      "text/plain": [
       "(-0+3.5844155844155847j)"
      ]
     },
     "execution_count": 56,
     "metadata": {},
     "output_type": "execute_result"
    }
   ],
   "source": [
    "6.624e-01/-1.848e-01j"
   ]
  },
  {
   "cell_type": "code",
   "execution_count": 54,
   "metadata": {},
   "outputs": [
    {
     "data": {
      "text/plain": [
       "-5.199748348537276j"
      ]
     },
     "execution_count": 54,
     "metadata": {},
     "output_type": "execute_result"
    }
   ],
   "source": [
    "3.306e-02/6.358e-03j"
   ]
  },
  {
   "cell_type": "code",
   "execution_count": 55,
   "metadata": {},
   "outputs": [
    {
     "data": {
      "text/plain": [
       "(-0+0.7148205928237129j)"
      ]
     },
     "execution_count": 55,
     "metadata": {},
     "output_type": "execute_result"
    }
   ],
   "source": [
    "4.582e-01/-6.410e-01j"
   ]
  },
  {
   "cell_type": "code",
   "execution_count": null,
   "metadata": {},
   "outputs": [],
   "source": []
  },
  {
   "cell_type": "code",
   "execution_count": null,
   "metadata": {},
   "outputs": [],
   "source": []
  },
  {
   "cell_type": "code",
   "execution_count": null,
   "metadata": {},
   "outputs": [],
   "source": []
  },
  {
   "cell_type": "code",
   "execution_count": 127,
   "metadata": {},
   "outputs": [
    {
     "name": "stdout",
     "output_type": "stream",
     "text": [
      "-- matrix --\n",
      "--- 0 ---\n",
      " 4.200+0.000j    0.300+1.000j    0.000+0.000j    0.000+0.000j\n",
      "--- 1 ---\n",
      " 0.300-1.000j    5.200+0.000j    0.000+0.000j    0.000+0.000j\n",
      "--- 2 ---\n",
      " 0.000+0.000j    0.000+0.000j   -5.300+0.000j    0.000+0.000j\n",
      "--- 3 ---\n",
      " 0.000+0.000j    0.000+0.000j    0.000+0.000j    4.300+0.000j\n",
      "\n",
      "-- normalized matrix --\n",
      "--- 0 ---\n",
      " 0.396+0.000j    0.028+0.094j    0.000+0.000j    0.000+0.000j\n",
      "--- 1 ---\n",
      " 0.028-0.094j    0.490+0.000j    0.000+0.000j    0.000+0.000j\n",
      "--- 2 ---\n",
      " 0.000+0.000j    0.000+0.000j   -0.500+0.000j    0.000+0.000j\n",
      "--- 3 ---\n",
      " 0.000+0.000j    0.000+0.000j    0.000+0.000j    0.405+0.000j\n",
      "\n",
      "-- eigenvalues --\n",
      "3.340e-01+1.577e-17j 5.522e-01+3.974e-17j -4.996e-01+0.000e+00j 4.054e-01+0.000e+00j \n",
      "\n",
      "-- eigenvectors --\n",
      "--- 0 ---\n",
      "8.461e-01+0.000e+00j   1.531e-01+5.105e-01j   0.000e+00+0.000e+00j   0.000e+00+0.000e+00j\n",
      "--- 1 ---\n",
      "-1.531e-01+5.105e-01j   8.461e-01+0.000e+00j   0.000e+00+0.000e+00j   0.000e+00+0.000e+00j\n",
      "--- 2 ---\n",
      "-0.000e+00+0.000e+00j   0.000e+00+0.000e+00j   1.000e+00+0.000e+00j   0.000e+00+0.000e+00j\n",
      "--- 3 ---\n",
      "-0.000e+00+0.000e+00j   0.000e+00+0.000e+00j   0.000e+00+0.000e+00j   1.000e+00+0.000e+00j\n",
      "\n",
      "--- Oracle angles ---\n",
      "aa: 1.313800e+00+0.000000e+00j\n",
      "ab1:        -2.558679e+00\n",
      "ab2:         2.745311e+00\n",
      "ba1:         2.558679e+00\n",
      "ba2:         2.745311e+00\n",
      "ac: 3.962815e-01+0.000000e+00j\n",
      "ad: 4.187969e+00+0.000000e+00j\n",
      "aw: 2.306822e+00+0.000000e+00j\n",
      "writing an initial state of AA5\n",
      "\n",
      "-- init. state ---\n",
      " 0.000+0.707j  0.707+0.000j  0.000+0.000j  0.000+0.000j \n",
      "\n",
      "-- resulting state ---\n",
      "-0.108+1.518j  1.157-0.108j  0.000+0.000j  0.000+0.000j \n"
     ]
    }
   ],
   "source": [
    "# --- To inverse the matrix AA5 ---\n",
    "\n",
    "mix.reload_module(mix)\n",
    "\n",
    "def get_a(v):\n",
    "    return 2 * np.arccos(v)  # for real elements\n",
    "\n",
    "def get_a_img(v):\n",
    "    return 2 * np.arccos(np.abs(v))  # for real imaginary elements\n",
    "\n",
    "name_file_start = \"AA5\"\n",
    "path_root = \"./QSP/examples/test_inverse/inverse_AA5/\"\n",
    "\n",
    "ii1 = 0 # id of eigv, starting from 0\n",
    "ii2 = 1 # id of eigv, starting from 0\n",
    "\n",
    "a11 = 4.2; \n",
    "a12 = 0.3 + 1j*1.0;\n",
    "a22 = 5.2;\n",
    "a33 = -5.3;\n",
    "a44 = 4.3;\n",
    "\n",
    "a21 = np.conjugate(a12)\n",
    "\n",
    "AA = np.array([\n",
    "    [a11, a12, 0, 0],\n",
    "    [a21, a22, 0, 0],\n",
    "    [0, 0, a33, 0],\n",
    "    [0, 0, 0, a44]\n",
    "])\n",
    "d = 2\n",
    "\n",
    "# --- create normalized matrix and find its eig. v ---\n",
    "coef_norm = get_norm(AA) * d\n",
    "AA_norm = AA / coef_norm\n",
    "eigenvalues_all, eigenvectors_matrix = np.linalg.eig(AA_norm)\n",
    "\n",
    "print(\"-- matrix --\")\n",
    "mix.print_matrix(AA)\n",
    "\n",
    "print(\"\\n-- normalized matrix --\")\n",
    "mix.print_matrix(AA_norm)\n",
    "\n",
    "\n",
    "\n",
    "print(\"\\n-- eigenvalues --\")\n",
    "mix.print_array(eigenvalues_all, ff=[16,3,\"e\"])\n",
    "\n",
    "print(\"\\n-- eigenvectors --\")\n",
    "mix.print_matrix(eigenvectors_matrix, ff=[16,3,\"e\"])\n",
    "\n",
    "# --- calculate angles for the oracle ---\n",
    "print(\"\\n--- Oracle angles ---\")\n",
    "print(\"aa: {:20.6e}\".format(get_a(AA_norm[0,0]*d)))\n",
    "\n",
    "ww = cmath.polar(AA_norm[0,1]*d)\n",
    "ab1 = -2.*ww[1]\n",
    "ab2 = 2.*np.arccos(ww[0])\n",
    "print(\"ab1: {:20.6e}\".format(ab1)) # phase of the complex number (minus because of Rz format)\n",
    "print(\"ab2: {:20.6e}\".format(ab2))  # magnitude of the complex number\n",
    "\n",
    "ww = cmath.polar(AA_norm[1,0]*d)\n",
    "ba1 = -2.*ww[1]\n",
    "ba2 = 2.*np.arccos(ww[0])\n",
    "print(\"ba1: {:20.6e}\".format(ba1)) # phase of the complex number\n",
    "print(\"ba2: {:20.6e}\".format(ba2))  # magnitude of the complex number\n",
    "\n",
    "print(\"ac: {:20.6e}\".format(get_a(AA_norm[1,1]*d)))\n",
    "print(\"ad: {:20.6e}\".format(get_a(AA_norm[2,2])))\n",
    "print(\"aw: {:20.6e}\".format(get_a(AA_norm[3,3])))\n",
    "\n",
    "# # --- write down the initial state to the .init file ---\n",
    "# print()\n",
    "# N = len(AA)\n",
    "# xr = np.real(eigenvectors_matrix[:,ii1] + eigenvectors_matrix[:,ii2])\n",
    "# xi = np.imag(eigenvectors_matrix[:,ii1] + eigenvectors_matrix[:,ii2])\n",
    "# res_init_state = xr + 1j*xi\n",
    "# norm_state = np.sqrt(np.sum(np.abs(res_init_state)**2))\n",
    "# res_init_state = res_init_state / norm_state\n",
    "# xr = xr / norm_state\n",
    "# xi = xi / norm_state\n",
    "# mix.write_init_state(name_file_start, path_root, xr, xi, 1)\n",
    "\n",
    "# print(\"\\n-- init. state ---\")\n",
    "# mix.print_array(res_init_state)\n",
    "\n",
    "# print(\"\\n-- lambda_1 / lambda_2 ---\")\n",
    "# print(\"{:20.3e}\".format(eigenvalues_all[ii1]/eigenvalues_all[ii2]))\n",
    "\n",
    "# print(\"\\n-- lambda_2 / lambda_1 ---\")\n",
    "# print(\"{:20.3e}\".format(eigenvalues_all[ii2]/eigenvalues_all[ii1]))\n",
    "\n",
    "\n",
    "# --- Consider a system of linear equations ---\n",
    "# --- write down the initial state to the .init file ---\n",
    "b_r = np.array([0.0, 1.0, 0.0, 0.0])\n",
    "b_i = np.array([1.0, 0.0, 0.0, 0.0])\n",
    "b = b_r + 1j * b_i\n",
    "coef_norm = np.sqrt(np.sum(np.abs(b)**2))\n",
    "\n",
    "b = b/coef_norm\n",
    "b_r = b_r/coef_norm\n",
    "b_i = b_i/coef_norm\n",
    "A_norm_inv = np.linalg.inv(AA_norm)\n",
    "x = np.dot(A_norm_inv, b)\n",
    "\n",
    "mix.write_init_state(name_file_start, path_root, b_r, b_i, 1)\n",
    "\n",
    "print(\"\\n-- init. state ---\")\n",
    "mix.print_array(b)\n",
    "\n",
    "print(\"\\n-- resulting state ---\")\n",
    "mix.print_array(x)"
   ]
  },
  {
   "cell_type": "code",
   "execution_count": 128,
   "metadata": {},
   "outputs": [
    {
     "data": {
      "text/plain": [
       "(-0.2149080348499516+1.2923523717328174j)"
      ]
     },
     "execution_count": 128,
     "metadata": {},
     "output_type": "execute_result"
    }
   ],
   "source": [
    "x[0]/x[1]"
   ]
  },
  {
   "cell_type": "code",
   "execution_count": null,
   "metadata": {},
   "outputs": [],
   "source": []
  },
  {
   "cell_type": "code",
   "execution_count": null,
   "metadata": {},
   "outputs": [],
   "source": []
  },
  {
   "cell_type": "code",
   "execution_count": 126,
   "metadata": {},
   "outputs": [
    {
     "data": {
      "text/plain": [
       "(-0.12605971249539255-1.1850350165868042j)"
      ]
     },
     "execution_count": 126,
     "metadata": {},
     "output_type": "execute_result"
    }
   ],
   "source": [
    "x[0]/x[1]"
   ]
  },
  {
   "cell_type": "code",
   "execution_count": 125,
   "metadata": {},
   "outputs": [
    {
     "data": {
      "text/plain": [
       "(-0.21497448332894134+1.2924270124900386j)"
      ]
     },
     "execution_count": 125,
     "metadata": {},
     "output_type": "execute_result"
    }
   ],
   "source": [
    "(1.356e-03j +  1.898e-02)/(-1.446e-02j  -1.356e-03)"
   ]
  },
  {
   "cell_type": "code",
   "execution_count": null,
   "metadata": {},
   "outputs": [],
   "source": []
  },
  {
   "cell_type": "code",
   "execution_count": 7,
   "metadata": {},
   "outputs": [
    {
     "name": "stdout",
     "output_type": "stream",
     "text": [
      "-- matrix --\n",
      "--- 0 ---\n",
      "        4.200           0.300           0.000           0.000\n",
      "--- 1 ---\n",
      "        1.000           5.200           0.000           0.000\n",
      "--- 2 ---\n",
      "        0.000           0.000          -5.300           0.000\n",
      "--- 3 ---\n",
      "        0.000           0.000           0.000           4.300\n",
      "\n",
      "-- normalized matrix --\n",
      "--- 0 ---\n",
      "        0.396           0.028           0.000           0.000\n",
      "--- 1 ---\n",
      "        0.094           0.491           0.000           0.000\n",
      "--- 2 ---\n",
      "        0.000           0.000          -0.500           0.000\n",
      "--- 3 ---\n",
      "        0.000           0.000           0.000           0.406\n",
      "\n",
      "-- eigenvalues --\n",
      "       3.734e-01        5.134e-01       -5.000e-01        4.057e-01 \n",
      "\n",
      "-- eigenvectors --\n",
      "--- 0 ---\n",
      "      -7.788e-01         -2.349e-01          0.000e+00          0.000e+00\n",
      "--- 1 ---\n",
      "       6.273e-01         -9.720e-01          0.000e+00          0.000e+00\n",
      "--- 2 ---\n",
      "       0.000e+00          0.000e+00          1.000e+00          0.000e+00\n",
      "--- 3 ---\n",
      "       0.000e+00          0.000e+00          0.000e+00          1.000e+00\n",
      "\n",
      "--- Oracle angles ---\n",
      "aa:         1.311953e+00\n",
      "ab:         3.028325e+00\n",
      "ba:         2.761959e+00\n",
      "ac:         3.891278e-01\n",
      "ad:         4.188790e+00\n",
      "aw:         2.306190e+00\n",
      "writing an initial state of AA6\n",
      "\n",
      "-- init. state ---\n",
      " 0.354+0.354j  0.354+0.354j  0.354+0.354j  0.354+0.354j \n",
      "\n",
      "-- resulting state ---\n",
      " 0.853+0.853j  0.557+0.557j -0.707-0.707j  0.872+0.872j \n"
     ]
    }
   ],
   "source": [
    "# --- To inverse the matrix AA6 (non-hermitian) ---\n",
    "\n",
    "mix.reload_module(mix)\n",
    "\n",
    "def get_a(v):\n",
    "    return 2 * np.arccos(v)  # for real elements\n",
    "\n",
    "def get_a_img(v):\n",
    "    return 2 * np.arccos(np.abs(v))  # for real imaginary elements\n",
    "\n",
    "name_file_start = \"AA6\"\n",
    "path_root = \"./QSP/examples/test_inverse/inverse_AA6/\"\n",
    "\n",
    "ii1 = 0 # id of eigv, starting from 0\n",
    "ii2 = 1 # id of eigv, starting from 0\n",
    "\n",
    "a11 = 4.2; \n",
    "a12 = 0.3;\n",
    "a22 = 5.2;\n",
    "a33 = -5.3;\n",
    "a44 = 4.3;\n",
    "\n",
    "a21 = 1.0\n",
    "\n",
    "AA = np.array([\n",
    "    [a11, a12, 0, 0],\n",
    "    [a21, a22, 0, 0],\n",
    "    [0, 0, a33, 0],\n",
    "    [0, 0, 0, a44]\n",
    "])\n",
    "d = 2\n",
    "\n",
    "# --- create normalized matrix and find its eig. v ---\n",
    "coef_norm = get_norm(AA) * d\n",
    "AA_norm = AA / coef_norm\n",
    "eigenvalues_all, eigenvectors_matrix = np.linalg.eig(AA_norm)\n",
    "\n",
    "print(\"-- matrix --\")\n",
    "mix.print_matrix(AA)\n",
    "\n",
    "print(\"\\n-- normalized matrix --\")\n",
    "mix.print_matrix(AA_norm)\n",
    "\n",
    "print(\"\\n-- eigenvalues --\")\n",
    "mix.print_array(eigenvalues_all, ff=[16,3,\"e\"])\n",
    "\n",
    "print(\"\\n-- eigenvectors --\")\n",
    "mix.print_matrix(eigenvectors_matrix, ff=[16,3,\"e\"])\n",
    "\n",
    "# --- calculate angles for the oracle ---\n",
    "print(\"\\n--- Oracle angles ---\")\n",
    "print(\"aa: {:20.6e}\".format(get_a(AA_norm[0,0]*d)))\n",
    "print(\"ab: {:20.6e}\".format(get_a(AA_norm[0,1]*d))) # phase of the complex number (minus because of Rz format)\n",
    "print(\"ba: {:20.6e}\".format(get_a(AA_norm[1,0]*d))) # phase of the complex number\n",
    "print(\"ac: {:20.6e}\".format(get_a(AA_norm[1,1]*d)))\n",
    "print(\"ad: {:20.6e}\".format(get_a(AA_norm[2,2])))\n",
    "print(\"aw: {:20.6e}\".format(get_a(AA_norm[3,3])))\n",
    "\n",
    "# # --- write down the initial state to the .init file ---\n",
    "# print()\n",
    "# N = len(AA)\n",
    "# xr = np.real(eigenvectors_matrix[:,ii1] + eigenvectors_matrix[:,ii2])\n",
    "# xi = np.imag(eigenvectors_matrix[:,ii1] + eigenvectors_matrix[:,ii2])\n",
    "# res_init_state = xr + 1j*xi\n",
    "# norm_state = np.sqrt(np.sum(np.abs(res_init_state)**2))\n",
    "# res_init_state = res_init_state / norm_state\n",
    "# xr = xr / norm_state\n",
    "# xi = xi / norm_state\n",
    "# mix.write_init_state(name_file_start, path_root, xr, xi, 1)\n",
    "\n",
    "# print(\"\\n-- init. state ---\")\n",
    "# mix.print_array(res_init_state)\n",
    "\n",
    "# print(\"\\n-- lambda_1 / lambda_2 ---\")\n",
    "# print(\"{:20.3e}\".format(eigenvalues_all[ii1]/eigenvalues_all[ii2]))\n",
    "\n",
    "# print(\"\\n-- lambda_2 / lambda_1 ---\")\n",
    "# print(\"{:20.3e}\".format(eigenvalues_all[ii2]/eigenvalues_all[ii1]))\n",
    "\n",
    "\n",
    "# --- Consider a system of linear equations ---\n",
    "# --- write down the initial state to the .init file ---\n",
    "b_r = np.array([1.0, 1.0, 1.0, 1.0])\n",
    "b_i = np.array([1.0, 1.0, 1.0, 1.0])\n",
    "b = b_r + 1j * b_i\n",
    "coef_norm = np.sqrt(np.sum(np.abs(b)**2))\n",
    "\n",
    "b = b/coef_norm\n",
    "b_r = b_r/coef_norm\n",
    "b_i = b_i/coef_norm\n",
    "A_norm_inv = np.linalg.inv(AA_norm)\n",
    "x = np.dot(A_norm_inv, b)\n",
    "\n",
    "mix.write_init_state(name_file_start, path_root, b_r, b_i, 1)\n",
    "\n",
    "print(\"\\n-- init. state ---\")\n",
    "mix.print_array(b)\n",
    "\n",
    "print(\"\\n-- resulting state ---\")\n",
    "mix.print_array(x)"
   ]
  },
  {
   "cell_type": "code",
   "execution_count": 8,
   "metadata": {},
   "outputs": [
    {
     "data": {
      "text/plain": [
       "(1.53125+0j)"
      ]
     },
     "execution_count": 8,
     "metadata": {},
     "output_type": "execute_result"
    }
   ],
   "source": [
    "x[0]/x[1]"
   ]
  },
  {
   "cell_type": "code",
   "execution_count": 11,
   "metadata": {},
   "outputs": [
    {
     "data": {
      "text/plain": [
       "(1.5316091954022988+0j)"
      ]
     },
     "execution_count": 11,
     "metadata": {},
     "output_type": "execute_result"
    }
   ],
   "source": [
    "(-1.066e-02j  + 1.066e-02) / (-6.960e-03j  + 6.960e-03)"
   ]
  },
  {
   "cell_type": "code",
   "execution_count": 12,
   "metadata": {},
   "outputs": [
    {
     "data": {
      "text/plain": [
       "(-1.2056638811513463-0j)"
      ]
     },
     "execution_count": 12,
     "metadata": {},
     "output_type": "execute_result"
    }
   ],
   "source": [
    "x[0]/x[2]"
   ]
  },
  {
   "cell_type": "code",
   "execution_count": 14,
   "metadata": {},
   "outputs": [
    {
     "data": {
      "text/plain": [
       "(-1.2058823529411764-0j)"
      ]
     },
     "execution_count": 14,
     "metadata": {},
     "output_type": "execute_result"
    }
   ],
   "source": [
    "(-1.066e-02j  + 1.066e-02) / (8.840e-03j  -8.840e-03)"
   ]
  },
  {
   "cell_type": "code",
   "execution_count": 15,
   "metadata": {},
   "outputs": [
    {
     "data": {
      "text/plain": [
       "(0.9781801299907148+0j)"
      ]
     },
     "execution_count": 15,
     "metadata": {},
     "output_type": "execute_result"
    }
   ],
   "source": [
    "x[0]/x[3]"
   ]
  },
  {
   "cell_type": "code",
   "execution_count": 16,
   "metadata": {},
   "outputs": [
    {
     "data": {
      "text/plain": [
       "(0.9779816513761467+0j)"
      ]
     },
     "execution_count": 16,
     "metadata": {},
     "output_type": "execute_result"
    }
   ],
   "source": [
    "(-1.066e-02j  + 1.066e-02) / (-1.090e-02j + 1.090e-02)"
   ]
  },
  {
   "cell_type": "code",
   "execution_count": 17,
   "metadata": {},
   "outputs": [
    {
     "data": {
      "text/plain": [
       "(-0.787372330547818-0j)"
      ]
     },
     "execution_count": 17,
     "metadata": {},
     "output_type": "execute_result"
    }
   ],
   "source": [
    "x[1]/x[2]"
   ]
  },
  {
   "cell_type": "code",
   "execution_count": 19,
   "metadata": {},
   "outputs": [
    {
     "data": {
      "text/plain": [
       "(-0.7873303167420814-0j)"
      ]
     },
     "execution_count": 19,
     "metadata": {},
     "output_type": "execute_result"
    }
   ],
   "source": [
    "(-6.960e-03j+   6.960e-03) / (8.840e-03j  -8.840e-03)"
   ]
  },
  {
   "cell_type": "code",
   "execution_count": 20,
   "metadata": {},
   "outputs": [
    {
     "data": {
      "text/plain": [
       "(0.638811513463324+0j)"
      ]
     },
     "execution_count": 20,
     "metadata": {},
     "output_type": "execute_result"
    }
   ],
   "source": [
    "x[1]/x[3]"
   ]
  },
  {
   "cell_type": "code",
   "execution_count": 22,
   "metadata": {},
   "outputs": [
    {
     "data": {
      "text/plain": [
       "(0.6385321100917432+0j)"
      ]
     },
     "execution_count": 22,
     "metadata": {},
     "output_type": "execute_result"
    }
   ],
   "source": [
    "(-6.960e-03j+   6.960e-03) / (-1.090e-02j   +1.090e-02)"
   ]
  },
  {
   "cell_type": "code",
   "execution_count": 23,
   "metadata": {},
   "outputs": [
    {
     "data": {
      "text/plain": [
       "(-0.8113207547169811+0j)"
      ]
     },
     "execution_count": 23,
     "metadata": {},
     "output_type": "execute_result"
    }
   ],
   "source": [
    "x[2]/x[3]"
   ]
  },
  {
   "cell_type": "code",
   "execution_count": 24,
   "metadata": {},
   "outputs": [
    {
     "data": {
      "text/plain": [
       "(-0.8110091743119267+0j)"
      ]
     },
     "execution_count": 24,
     "metadata": {},
     "output_type": "execute_result"
    }
   ],
   "source": [
    "(8.840e-03j  -8.840e-03) / (-1.090e-02j  + 1.090e-02)"
   ]
  },
  {
   "cell_type": "code",
   "execution_count": null,
   "metadata": {},
   "outputs": [],
   "source": []
  },
  {
   "cell_type": "code",
   "execution_count": null,
   "metadata": {},
   "outputs": [],
   "source": []
  },
  {
   "cell_type": "code",
   "execution_count": 20,
   "metadata": {},
   "outputs": [
    {
     "name": "stdout",
     "output_type": "stream",
     "text": [
      "-- matrix --\n",
      "--- 0 ---\n",
      " 4.200+0.000j    0.300+1.000j    0.000+0.000j    0.000+0.000j\n",
      "--- 1 ---\n",
      " 2.000+3.000j    5.200+0.000j    0.000+0.000j    0.000+0.000j\n",
      "--- 2 ---\n",
      " 0.000+0.000j    0.000+0.000j    5.300+0.000j    0.000+0.000j\n",
      "--- 3 ---\n",
      " 0.000+0.000j    0.000+0.000j    0.000+0.000j    4.300+0.000j\n",
      "\n",
      "-- normalized matrix --\n",
      "--- 0 ---\n",
      " 0.332+0.000j    0.024+0.079j    0.000+0.000j    0.000+0.000j\n",
      "--- 1 ---\n",
      " 0.158+0.237j    0.411+0.000j    0.000+0.000j    0.000+0.000j\n",
      "--- 2 ---\n",
      " 0.000+0.000j    0.000+0.000j    0.419+0.000j    0.000+0.000j\n",
      "--- 3 ---\n",
      " 0.000+0.000j    0.000+0.000j    0.000+0.000j    0.340+0.000j\n",
      "\n",
      "-- eigenvalues --\n",
      "3.039e-01-1.341e-01j 4.389e-01+1.341e-01j 4.188e-01+0.000e+00j 3.398e-01+0.000e+00j \n",
      "\n",
      "-- eigenvectors --\n",
      "--- 0 ---\n",
      "-5.140e-01+4.409e-02j   4.021e-01+1.616e-01j   0.000e+00+0.000e+00j   0.000e+00+0.000e+00j\n",
      "--- 1 ---\n",
      "8.567e-01+0.000e+00j   9.012e-01+0.000e+00j   0.000e+00+0.000e+00j   0.000e+00+0.000e+00j\n",
      "--- 2 ---\n",
      "0.000e+00+0.000e+00j   -0.000e+00+0.000e+00j   1.000e+00+0.000e+00j   0.000e+00+0.000e+00j\n",
      "--- 3 ---\n",
      "0.000e+00+0.000e+00j   -0.000e+00+0.000e+00j   0.000e+00+0.000e+00j   1.000e+00+0.000e+00j\n",
      "\n",
      "--- Oracle angles ---\n",
      "aa: 1.689959e+00+0.000000e+00j\n",
      "ab1:        -2.558679e+00\n",
      "ab2:         2.810090e+00\n",
      "ba1:        -1.965587e+00\n",
      "ba2:         1.929061e+00\n",
      "ac: 1.212532e+00+0.000000e+00j\n",
      "ad: 2.277362e+00+0.000000e+00j\n",
      "aw: 2.448237e+00+0.000000e+00j\n",
      "writing an initial state of AA7\n",
      "\n",
      "-- init. state ---\n",
      " 0.354+0.354j  0.354+0.354j  0.354+0.354j  0.354+0.354j \n",
      "\n",
      "-- resulting state ---\n",
      " 0.989+0.838j  0.964-0.032j  0.844+0.844j  1.041+1.041j \n"
     ]
    }
   ],
   "source": [
    "# --- To inverse the matrix AA7 (non-hermitian complex) ---\n",
    "\n",
    "mix.reload_module(mix)\n",
    "\n",
    "def get_a(v):\n",
    "    return 2 * np.arccos(v)  # for real elements\n",
    "\n",
    "def get_a_img(v):\n",
    "    return 2 * np.arccos(np.abs(v))  # for real imaginary elements\n",
    "\n",
    "name_file_start = \"AA7\"\n",
    "path_root = \"./QSP/examples/test_inverse/inverse_AA7/\"\n",
    "\n",
    "a11 = 4.2; \n",
    "a12 = 0.3 + 1j*1.0;\n",
    "a22 = 5.2;\n",
    "a33 = 5.3;\n",
    "a44 = 4.3;\n",
    "\n",
    "a21 = 2 + 1j*3.0;\n",
    "\n",
    "AA = np.array([\n",
    "    [a11, a12, 0, 0],\n",
    "    [a21, a22, 0, 0],\n",
    "    [0, 0, a33, 0],\n",
    "    [0, 0, 0, a44]\n",
    "])\n",
    "d = 2\n",
    "\n",
    "# --- create normalized matrix and find its eig. v ---\n",
    "coef_norm = get_norm(AA) * d\n",
    "AA_norm = AA / coef_norm\n",
    "eigenvalues_all, eigenvectors_matrix = np.linalg.eig(AA_norm)\n",
    "\n",
    "print(\"-- matrix --\")\n",
    "mix.print_matrix(AA)\n",
    "\n",
    "print(\"\\n-- normalized matrix --\")\n",
    "mix.print_matrix(AA_norm)\n",
    "\n",
    "print(\"\\n-- eigenvalues --\")\n",
    "mix.print_array(eigenvalues_all, ff=[16,3,\"e\"])\n",
    "\n",
    "print(\"\\n-- eigenvectors --\")\n",
    "mix.print_matrix(eigenvectors_matrix, ff=[16,3,\"e\"])\n",
    "\n",
    "# --- calculate angles for the oracle ---\n",
    "print(\"\\n--- Oracle angles ---\")\n",
    "print(\"aa: {:20.6e}\".format(get_a(AA_norm[0,0]*d)))\n",
    "\n",
    "ww = cmath.polar(AA_norm[0,1]*d)\n",
    "ab1 = -2.*ww[1]\n",
    "ab2 = 2.*np.arccos(ww[0])\n",
    "print(\"ab1: {:20.6e}\".format(ab1)) # phase of the complex number (minus because of Rz format)\n",
    "print(\"ab2: {:20.6e}\".format(ab2))  # magnitude of the complex number\n",
    "\n",
    "ww = cmath.polar(AA_norm[1,0]*d)\n",
    "ba1 = -2.*ww[1]\n",
    "ba2 = 2.*np.arccos(ww[0])\n",
    "print(\"ba1: {:20.6e}\".format(ba1)) # phase of the complex number\n",
    "print(\"ba2: {:20.6e}\".format(ba2))  # magnitude of the complex number\n",
    "\n",
    "print(\"ac: {:20.6e}\".format(get_a(AA_norm[1,1]*d)))\n",
    "print(\"ad: {:20.6e}\".format(get_a(AA_norm[2,2])))\n",
    "print(\"aw: {:20.6e}\".format(get_a(AA_norm[3,3])))\n",
    "\n",
    "# --- Consider a system of linear equations ---\n",
    "# --- write down the initial state to the .init file ---\n",
    "b_r = np.array([1.0, 1.0, 1.0, 1.0])\n",
    "b_i = np.array([1.0, 1.0, 1.0, 1.0])\n",
    "b = b_r + 1j * b_i\n",
    "coef_norm = np.sqrt(np.sum(np.abs(b)**2))\n",
    "\n",
    "b = b/coef_norm\n",
    "b_r = b_r/coef_norm\n",
    "b_i = b_i/coef_norm\n",
    "A_norm_inv = np.linalg.inv(AA_norm)\n",
    "x = np.dot(A_norm_inv, b)\n",
    "\n",
    "mix.write_init_state(name_file_start, path_root, b_r, b_i, 1)\n",
    "\n",
    "print(\"\\n-- init. state ---\")\n",
    "mix.print_array(b)\n",
    "\n",
    "print(\"\\n-- resulting state ---\")\n",
    "mix.print_array(x)"
   ]
  },
  {
   "cell_type": "code",
   "execution_count": 22,
   "metadata": {},
   "outputs": [
    {
     "data": {
      "text/plain": [
       "(0.9956647398843929+0.9031791907514454j)"
      ]
     },
     "execution_count": 22,
     "metadata": {},
     "output_type": "execute_result"
    }
   ],
   "source": [
    "x[0]/x[1]"
   ]
  },
  {
   "cell_type": "code",
   "execution_count": 23,
   "metadata": {},
   "outputs": [
    {
     "data": {
      "text/plain": [
       "(0.9953941307408173+0.9031399174033866j)"
      ]
     },
     "execution_count": 23,
     "metadata": {},
     "output_type": "execute_result"
    }
   ],
   "source": [
    "(-1.236e-02j + 1.048e-02) / (-1.205e-02j - 4.047e-04)"
   ]
  },
  {
   "cell_type": "code",
   "execution_count": 24,
   "metadata": {},
   "outputs": [
    {
     "data": {
      "text/plain": [
       "(1.082040633060151-0.08919480875105457j)"
      ]
     },
     "execution_count": 24,
     "metadata": {},
     "output_type": "execute_result"
    }
   ],
   "source": [
    "x[0]/x[2]"
   ]
  },
  {
   "cell_type": "code",
   "execution_count": 25,
   "metadata": {},
   "outputs": [
    {
     "data": {
      "text/plain": [
       "(1.0824644549763032-0.0890995260663507j)"
      ]
     },
     "execution_count": 25,
     "metadata": {},
     "output_type": "execute_result"
    }
   ],
   "source": [
    "(-1.236e-02j + 1.048e-02) / (-1.055e-02j + 1.055e-02)"
   ]
  },
  {
   "cell_type": "code",
   "execution_count": 26,
   "metadata": {},
   "outputs": [
    {
     "data": {
      "text/plain": [
       "(0.8778820230488018-0.0723655995527424j)"
      ]
     },
     "execution_count": 26,
     "metadata": {},
     "output_type": "execute_result"
    }
   ],
   "source": [
    "x[0]/x[3]"
   ]
  },
  {
   "cell_type": "code",
   "execution_count": 27,
   "metadata": {},
   "outputs": [
    {
     "data": {
      "text/plain": [
       "(0.8777863182167562-0.07225211375864718j)"
      ]
     },
     "execution_count": 27,
     "metadata": {},
     "output_type": "execute_result"
    }
   ],
   "source": [
    "(-1.236e-02j + 1.048e-02) / (-1.301e-02j  + 1.301e-02)"
   ]
  },
  {
   "cell_type": "code",
   "execution_count": 28,
   "metadata": {},
   "outputs": [
    {
     "data": {
      "text/plain": [
       "(0.5516027514666411-0.5899485157073739j)"
      ]
     },
     "execution_count": 28,
     "metadata": {},
     "output_type": "execute_result"
    }
   ],
   "source": [
    "x[1]/x[2]"
   ]
  },
  {
   "cell_type": "code",
   "execution_count": 29,
   "metadata": {},
   "outputs": [
    {
     "data": {
      "text/plain": [
       "(0.5519099526066351-0.5902701421800948j)"
      ]
     },
     "execution_count": 29,
     "metadata": {},
     "output_type": "execute_result"
    }
   ],
   "source": [
    "(-1.205e-02j  -4.047e-04) / (-1.055e-02j  + 1.055e-02) "
   ]
  },
  {
   "cell_type": "code",
   "execution_count": 30,
   "metadata": {},
   "outputs": [
    {
     "data": {
      "text/plain": [
       "(0.44752676062387864-0.47863747500786946j)"
      ]
     },
     "execution_count": 30,
     "metadata": {},
     "output_type": "execute_result"
    }
   ],
   "source": [
    "x[1]/x[3]"
   ]
  },
  {
   "cell_type": "code",
   "execution_count": 31,
   "metadata": {},
   "outputs": [
    {
     "data": {
      "text/plain": [
       "(0.4475518831667948-0.47865872405841653j)"
      ]
     },
     "execution_count": 31,
     "metadata": {},
     "output_type": "execute_result"
    }
   ],
   "source": [
    "(-1.205e-02j -4.047e-04) / (-1.301e-02j  + 1.301e-02)"
   ]
  },
  {
   "cell_type": "code",
   "execution_count": 32,
   "metadata": {},
   "outputs": [
    {
     "data": {
      "text/plain": [
       "(0.8113207547169812+0j)"
      ]
     },
     "execution_count": 32,
     "metadata": {},
     "output_type": "execute_result"
    }
   ],
   "source": [
    "x[2]/x[3]"
   ]
  },
  {
   "cell_type": "code",
   "execution_count": 33,
   "metadata": {},
   "outputs": [
    {
     "data": {
      "text/plain": [
       "(0.8109146810146042+0j)"
      ]
     },
     "execution_count": 33,
     "metadata": {},
     "output_type": "execute_result"
    }
   ],
   "source": [
    "(-1.055e-02j  + 1.055e-02) / (-1.301e-02j  + 1.301e-02)"
   ]
  },
  {
   "cell_type": "code",
   "execution_count": null,
   "metadata": {},
   "outputs": [],
   "source": []
  },
  {
   "cell_type": "code",
   "execution_count": 14,
   "metadata": {},
   "outputs": [
    {
     "data": {
      "text/plain": [
       "(-0.18911174785100274+0.5308022922636103j)"
      ]
     },
     "execution_count": 14,
     "metadata": {},
     "output_type": "execute_result"
    }
   ],
   "source": [
    "x[0]/x[1]"
   ]
  },
  {
   "cell_type": "code",
   "execution_count": 13,
   "metadata": {},
   "outputs": [
    {
     "data": {
      "text/plain": [
       "(-2.3455496589114455-1.2574238678324372j)"
      ]
     },
     "execution_count": 13,
     "metadata": {},
     "output_type": "execute_result"
    }
   ],
   "source": [
    "(-2.837e-02j+2.010e-03) / (9.752e-03j  + 4.371e-03)"
   ]
  },
  {
   "cell_type": "code",
   "execution_count": 38,
   "metadata": {},
   "outputs": [
    {
     "data": {
      "text/plain": [
       "(-2.345588235294118-1.2573529411764708j)"
      ]
     },
     "execution_count": 38,
     "metadata": {},
     "output_type": "execute_result"
    }
   ],
   "source": [
    "x[0]/x[1]"
   ]
  },
  {
   "cell_type": "code",
   "execution_count": 37,
   "metadata": {},
   "outputs": [
    {
     "data": {
      "text/plain": [
       "(-0.18905438420118315+0.5305966998474998j)"
      ]
     },
     "execution_count": 37,
     "metadata": {},
     "output_type": "execute_result"
    }
   ],
   "source": [
    "(3.651e-03j   +1.894e-02) / (-3.385e-02j  -5.180e-03)"
   ]
  },
  {
   "cell_type": "code",
   "execution_count": null,
   "metadata": {},
   "outputs": [],
   "source": []
  },
  {
   "cell_type": "code",
   "execution_count": null,
   "metadata": {},
   "outputs": [],
   "source": []
  },
  {
   "cell_type": "code",
   "execution_count": null,
   "metadata": {},
   "outputs": [],
   "source": []
  },
  {
   "cell_type": "code",
   "execution_count": null,
   "metadata": {},
   "outputs": [],
   "source": []
  },
  {
   "cell_type": "code",
   "execution_count": null,
   "metadata": {},
   "outputs": [],
   "source": []
  },
  {
   "cell_type": "code",
   "execution_count": null,
   "metadata": {},
   "outputs": [],
   "source": []
  },
  {
   "cell_type": "code",
   "execution_count": null,
   "metadata": {},
   "outputs": [],
   "source": []
  },
  {
   "cell_type": "code",
   "execution_count": null,
   "metadata": {},
   "outputs": [],
   "source": [
    "# --- For Hamiltonian simulation of the matrix NH0 ---\n",
    "mix.reload_module(mix)\n",
    "\n",
    "def get_a(v):\n",
    "    return 2 * np.arccos(v)  # for real matrix\n",
    "\n",
    "name_file_start = \"NH0\"\n",
    "path_root = \"./QSP/examples/test_inverse/hsim_non_hermitian_tiny/\"\n",
    "\n",
    "ii = 0 # id of eigv, starting from 0\n",
    "\n",
    "AA = np.array([\n",
    "    [-1.j, 0.],\n",
    "    [0.,  1.],\n",
    "])\n",
    "d = 1\n",
    "\n",
    "# --- create normalized matrix and find its eig. v ---\n",
    "coef_norm = get_norm(AA) * d\n",
    "AA_norm = AA / coef_norm\n",
    "eigenvalues_all, eigenvectors_matrix = np.linalg.eig(AA_norm)\n",
    "\n",
    "print(\"-- matrix --\")\n",
    "mix.print_matrix(AA)\n",
    "\n",
    "print(\"\\n-- normalized matrix --\")\n",
    "mix.print_matrix(AA_norm)\n",
    "\n",
    "print(\"\\n-- eigenvalues --\")\n",
    "mix.print_array(eigenvalues_all, ff=[16,6,\"e\"])\n",
    "\n",
    "print(\"\\n-- eigenvectors --\")\n",
    "mix.print_matrix(eigenvectors_matrix, ff=[16,6,\"e\"])\n",
    "\n",
    "# # --- calculate angles for the oracle ---\n",
    "# print(\"\\n--- Oracle angles ---\")\n",
    "# print(\"aa: {:0.6e}\".format(get_a(AA_norm[0,0]*d)))\n",
    "# print(\"ab: {:0.6e}\".format(get_a(AA_norm[0,1]*d)))\n",
    "# print(\"ba: {:0.6e}\".format(get_a(AA_norm[1,0]*d)))\n",
    "# print(\"ac: {:0.6e}\".format(get_a(AA_norm[1,1]*d)))\n",
    "# print(\"ad: {:0.6e}\".format(get_a(AA_norm[2,2])))\n",
    "# print(\"aw: {:0.6e}\".format(get_a(AA_norm[3,3])))\n",
    "\n",
    "\n",
    "# --- write down the initial state to the .init file ---\n",
    "print()\n",
    "N = len(AA)\n",
    "xr = np.real(eigenvectors_matrix[:,ii])\n",
    "xi = np.imag(eigenvectors_matrix[:,ii])\n",
    "res_init_state = xr + 1j*xi\n",
    "mix.write_init_state(name_file_start, path_root, xr, xi, 1)\n",
    "\n",
    "print(\"\\n-- init. state ---\")\n",
    "mix.print_array(res_init_state)\n",
    "\n",
    "print(\"\\n-- resulting exp(-i*t*lambda)|lambda> ---\")\n",
    "t = 10\n",
    "res_h = np.exp(-1j * t * eigenvalues_all[ii]) * res_init_state\n",
    "mix.print_array(res_h, ff = [18, 3, \"e\"])"
   ]
  }
 ],
 "metadata": {
  "kernelspec": {
   "display_name": "Python 3",
   "language": "python",
   "name": "python3"
  },
  "language_info": {
   "codemirror_mode": {
    "name": "ipython",
    "version": 3
   },
   "file_extension": ".py",
   "mimetype": "text/x-python",
   "name": "python",
   "nbconvert_exporter": "python",
   "pygments_lexer": "ipython3",
   "version": "3.6.9"
  }
 },
 "nbformat": 4,
 "nbformat_minor": 5
}
